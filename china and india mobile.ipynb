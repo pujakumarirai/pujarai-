{
 "cells": [
  {
   "cell_type": "code",
   "execution_count": 6,
   "id": "a5d7135b-f3be-4e28-88d3-23f90962bef7",
   "metadata": {},
   "outputs": [],
   "source": [
    "import pandas as pd \n",
    "import numpy as np\n",
    "# VISUALISATION LIBRARIES\n",
    "import matplotlib.pyplot as plt\n",
    "import seaborn as sns\n",
    "\n",
    "# MODEL EVALUATION\n",
    "from sklearn.model_selection import train_test_split\n",
    "from sklearn.linear_model import LogisticRegression\n",
    "import statsmodels.api as sm\n",
    "from statsmodels.stats.outliers_influence import variance_inflation_factor\n",
    "from sklearn.metrics import accuracy_score, precision_score\n",
    "from sklearn.metrics import confusion_matrix\n",
    "from sklearn.feature_selection import RFE\n",
    "from sklearn.metrics import precision_recall_curve\n",
    "from sklearn.preprocessing import StandardScaler, LabelEncoder\n",
    "from sklearn.cluster import KMeans, DBSCAN\n",
    "from sklearn.metrics import silhouette_score\n",
    "from sklearn.preprocessing import MinMaxScaler, LabelEncoder\n",
    "# SUPPRESS WARNINGS\n",
    "import warnings\n",
    "warnings.filterwarnings('ignore')\n",
    "\n",
    "sns.set_theme(style=\"darkgrid\")\n"
   ]
  },
  {
   "cell_type": "code",
   "execution_count": 7,
   "id": "ed56aae2-380f-446e-ae59-f2730b388247",
   "metadata": {},
   "outputs": [
    {
     "data": {
      "text/html": [
       "<div>\n",
       "<style scoped>\n",
       "    .dataframe tbody tr th:only-of-type {\n",
       "        vertical-align: middle;\n",
       "    }\n",
       "\n",
       "    .dataframe tbody tr th {\n",
       "        vertical-align: top;\n",
       "    }\n",
       "\n",
       "    .dataframe thead th {\n",
       "        text-align: right;\n",
       "    }\n",
       "</style>\n",
       "<table border=\"1\" class=\"dataframe\">\n",
       "  <thead>\n",
       "    <tr style=\"text-align: right;\">\n",
       "      <th></th>\n",
       "      <th>ID</th>\n",
       "      <th>CURR_AGE</th>\n",
       "      <th>GENDER</th>\n",
       "      <th>ANN_INCOME</th>\n",
       "      <th>AGE_PHN</th>\n",
       "      <th>PURCHASE</th>\n",
       "    </tr>\n",
       "  </thead>\n",
       "  <tbody>\n",
       "    <tr>\n",
       "      <th>0</th>\n",
       "      <td>00001Q15YJ</td>\n",
       "      <td>50</td>\n",
       "      <td>M</td>\n",
       "      <td>445344.000000</td>\n",
       "      <td>439</td>\n",
       "      <td>0</td>\n",
       "    </tr>\n",
       "    <tr>\n",
       "      <th>1</th>\n",
       "      <td>00003I71CQ</td>\n",
       "      <td>35</td>\n",
       "      <td>M</td>\n",
       "      <td>107634.000000</td>\n",
       "      <td>283</td>\n",
       "      <td>0</td>\n",
       "    </tr>\n",
       "    <tr>\n",
       "      <th>2</th>\n",
       "      <td>00003N47FS</td>\n",
       "      <td>59</td>\n",
       "      <td>F</td>\n",
       "      <td>502786.666667</td>\n",
       "      <td>390</td>\n",
       "      <td>1</td>\n",
       "    </tr>\n",
       "    <tr>\n",
       "      <th>3</th>\n",
       "      <td>00005H41DE</td>\n",
       "      <td>43</td>\n",
       "      <td>M</td>\n",
       "      <td>585664.000000</td>\n",
       "      <td>475</td>\n",
       "      <td>0</td>\n",
       "    </tr>\n",
       "    <tr>\n",
       "      <th>4</th>\n",
       "      <td>00007E17UM</td>\n",
       "      <td>39</td>\n",
       "      <td>F</td>\n",
       "      <td>705722.666667</td>\n",
       "      <td>497</td>\n",
       "      <td>1</td>\n",
       "    </tr>\n",
       "  </tbody>\n",
       "</table>\n",
       "</div>"
      ],
      "text/plain": [
       "           ID  CURR_AGE GENDER     ANN_INCOME  AGE_PHN  PURCHASE\n",
       "0  00001Q15YJ        50      M  445344.000000      439         0\n",
       "1  00003I71CQ        35      M  107634.000000      283         0\n",
       "2  00003N47FS        59      F  502786.666667      390         1\n",
       "3  00005H41DE        43      M  585664.000000      475         0\n",
       "4  00007E17UM        39      F  705722.666667      497         1"
      ]
     },
     "execution_count": 7,
     "metadata": {},
     "output_type": "execute_result"
    }
   ],
   "source": [
    "df = pd.read_csv (r\"C:\\Users\\puja0\\Downloads\\Datasets\\CN_Mobiles+-+Data.csv\")\n",
    "df.head()"
   ]
  },
  {
   "cell_type": "code",
   "execution_count": 8,
   "id": "b02d61be-6fc4-4a57-9dc2-707d8a659473",
   "metadata": {},
   "outputs": [
    {
     "data": {
      "text/plain": [
       "(40000, 6)"
      ]
     },
     "execution_count": 8,
     "metadata": {},
     "output_type": "execute_result"
    }
   ],
   "source": [
    "df.shape"
   ]
  },
  {
   "cell_type": "code",
   "execution_count": 9,
   "id": "29753d00-fb62-4fbb-9b6c-c95cc3fa6309",
   "metadata": {},
   "outputs": [
    {
     "name": "stdout",
     "output_type": "stream",
     "text": [
      "<class 'pandas.core.frame.DataFrame'>\n",
      "RangeIndex: 40000 entries, 0 to 39999\n",
      "Data columns (total 6 columns):\n",
      " #   Column      Non-Null Count  Dtype  \n",
      "---  ------      --------------  -----  \n",
      " 0   ID          40000 non-null  object \n",
      " 1   CURR_AGE    40000 non-null  int64  \n",
      " 2   GENDER      40000 non-null  object \n",
      " 3   ANN_INCOME  40000 non-null  float64\n",
      " 4   AGE_PHN     40000 non-null  int64  \n",
      " 5   PURCHASE    40000 non-null  int64  \n",
      "dtypes: float64(1), int64(3), object(2)\n",
      "memory usage: 1.8+ MB\n"
     ]
    }
   ],
   "source": [
    "df.info()"
   ]
  },
  {
   "cell_type": "code",
   "execution_count": 10,
   "id": "5125cd66-329e-401e-9045-17cbf901816c",
   "metadata": {},
   "outputs": [
    {
     "data": {
      "text/html": [
       "<div>\n",
       "<style scoped>\n",
       "    .dataframe tbody tr th:only-of-type {\n",
       "        vertical-align: middle;\n",
       "    }\n",
       "\n",
       "    .dataframe tbody tr th {\n",
       "        vertical-align: top;\n",
       "    }\n",
       "\n",
       "    .dataframe thead th {\n",
       "        text-align: right;\n",
       "    }\n",
       "</style>\n",
       "<table border=\"1\" class=\"dataframe\">\n",
       "  <thead>\n",
       "    <tr style=\"text-align: right;\">\n",
       "      <th></th>\n",
       "      <th>CURR_AGE</th>\n",
       "      <th>ANN_INCOME</th>\n",
       "      <th>AGE_PHN</th>\n",
       "      <th>PURCHASE</th>\n",
       "    </tr>\n",
       "  </thead>\n",
       "  <tbody>\n",
       "    <tr>\n",
       "      <th>count</th>\n",
       "      <td>40000.00000</td>\n",
       "      <td>40000.000000</td>\n",
       "      <td>40000.000000</td>\n",
       "      <td>40000.000000</td>\n",
       "    </tr>\n",
       "    <tr>\n",
       "      <th>mean</th>\n",
       "      <td>44.99745</td>\n",
       "      <td>359398.878050</td>\n",
       "      <td>359.080250</td>\n",
       "      <td>0.575775</td>\n",
       "    </tr>\n",
       "    <tr>\n",
       "      <th>std</th>\n",
       "      <td>11.82008</td>\n",
       "      <td>175109.262950</td>\n",
       "      <td>203.063724</td>\n",
       "      <td>0.494231</td>\n",
       "    </tr>\n",
       "    <tr>\n",
       "      <th>min</th>\n",
       "      <td>25.00000</td>\n",
       "      <td>70089.000000</td>\n",
       "      <td>1.000000</td>\n",
       "      <td>0.000000</td>\n",
       "    </tr>\n",
       "    <tr>\n",
       "      <th>25%</th>\n",
       "      <td>35.00000</td>\n",
       "      <td>219766.000000</td>\n",
       "      <td>235.000000</td>\n",
       "      <td>0.000000</td>\n",
       "    </tr>\n",
       "    <tr>\n",
       "      <th>50%</th>\n",
       "      <td>45.00000</td>\n",
       "      <td>337656.833333</td>\n",
       "      <td>331.000000</td>\n",
       "      <td>1.000000</td>\n",
       "    </tr>\n",
       "    <tr>\n",
       "      <th>75%</th>\n",
       "      <td>55.00000</td>\n",
       "      <td>464261.000000</td>\n",
       "      <td>444.000000</td>\n",
       "      <td>1.000000</td>\n",
       "    </tr>\n",
       "    <tr>\n",
       "      <th>max</th>\n",
       "      <td>65.00000</td>\n",
       "      <td>799970.666667</td>\n",
       "      <td>1020.000000</td>\n",
       "      <td>1.000000</td>\n",
       "    </tr>\n",
       "  </tbody>\n",
       "</table>\n",
       "</div>"
      ],
      "text/plain": [
       "          CURR_AGE     ANN_INCOME       AGE_PHN      PURCHASE\n",
       "count  40000.00000   40000.000000  40000.000000  40000.000000\n",
       "mean      44.99745  359398.878050    359.080250      0.575775\n",
       "std       11.82008  175109.262950    203.063724      0.494231\n",
       "min       25.00000   70089.000000      1.000000      0.000000\n",
       "25%       35.00000  219766.000000    235.000000      0.000000\n",
       "50%       45.00000  337656.833333    331.000000      1.000000\n",
       "75%       55.00000  464261.000000    444.000000      1.000000\n",
       "max       65.00000  799970.666667   1020.000000      1.000000"
      ]
     },
     "execution_count": 10,
     "metadata": {},
     "output_type": "execute_result"
    }
   ],
   "source": [
    "df.describe()"
   ]
  },
  {
   "cell_type": "markdown",
   "id": "fa0e97a9-8d7d-4610-958b-7ebe69cc6aeb",
   "metadata": {},
   "source": [
    "### EDA"
   ]
  },
  {
   "cell_type": "code",
   "execution_count": 11,
   "id": "d8469fbf-ef73-473f-a506-a34d6062c1fd",
   "metadata": {},
   "outputs": [],
   "source": [
    "pd.set_option('display.max_columns', None)"
   ]
  },
  {
   "cell_type": "code",
   "execution_count": 12,
   "id": "7ec85508-18b2-4315-9a08-69ef10317942",
   "metadata": {},
   "outputs": [
    {
     "data": {
      "text/plain": [
       "ID            0\n",
       "CURR_AGE      0\n",
       "GENDER        0\n",
       "ANN_INCOME    0\n",
       "AGE_PHN       0\n",
       "PURCHASE      0\n",
       "dtype: int64"
      ]
     },
     "execution_count": 12,
     "metadata": {},
     "output_type": "execute_result"
    }
   ],
   "source": [
    "df.isnull().sum()"
   ]
  },
  {
   "cell_type": "code",
   "execution_count": 13,
   "id": "8d978844-0f0f-4962-957b-c16e302bec0f",
   "metadata": {},
   "outputs": [
    {
     "data": {
      "text/plain": [
       "GENDER\n",
       "M    22285\n",
       "F    17715\n",
       "Name: count, dtype: int64"
      ]
     },
     "execution_count": 13,
     "metadata": {},
     "output_type": "execute_result"
    }
   ],
   "source": [
    "df['GENDER'].value_counts()"
   ]
  },
  {
   "cell_type": "code",
   "execution_count": 14,
   "id": "e2fa954e-548b-4f42-929b-7a005b5eeb61",
   "metadata": {},
   "outputs": [
    {
     "data": {
      "text/plain": [
       "PURCHASE\n",
       "1    23031\n",
       "0    16969\n",
       "Name: count, dtype: int64"
      ]
     },
     "execution_count": 14,
     "metadata": {},
     "output_type": "execute_result"
    }
   ],
   "source": [
    "df['PURCHASE'].value_counts()"
   ]
  },
  {
   "cell_type": "code",
   "execution_count": 15,
   "id": "fc403028-b0e4-4df6-b579-5f87d0b16373",
   "metadata": {},
   "outputs": [],
   "source": [
    "df['GENDER']=df['GENDER'].replace(np.nan,'PURCHASE')"
   ]
  },
  {
   "cell_type": "code",
   "execution_count": 16,
   "id": "a4296d80-8beb-4f78-abe9-81ecaeaefae6",
   "metadata": {},
   "outputs": [
    {
     "data": {
      "text/plain": [
       "CURR_AGE\n",
       "46    1027\n",
       "36    1026\n",
       "64    1015\n",
       "34    1013\n",
       "62    1008\n",
       "31    1005\n",
       "43    1002\n",
       "59    1001\n",
       "53     995\n",
       "55     993\n",
       "60     992\n",
       "27     990\n",
       "33     990\n",
       "42     989\n",
       "28     987\n",
       "39     985\n",
       "30     984\n",
       "51     980\n",
       "56     979\n",
       "47     979\n",
       "50     976\n",
       "29     974\n",
       "52     974\n",
       "38     972\n",
       "63     972\n",
       "40     967\n",
       "45     966\n",
       "48     965\n",
       "54     962\n",
       "32     960\n",
       "37     959\n",
       "65     955\n",
       "41     954\n",
       "35     952\n",
       "44     951\n",
       "49     941\n",
       "26     941\n",
       "58     940\n",
       "61     937\n",
       "25     930\n",
       "57     912\n",
       "Name: count, dtype: int64"
      ]
     },
     "execution_count": 16,
     "metadata": {},
     "output_type": "execute_result"
    }
   ],
   "source": [
    "df['CURR_AGE'].value_counts()"
   ]
  },
  {
   "cell_type": "code",
   "execution_count": 17,
   "id": "f872b814-14e4-46c2-96ab-f70764d81c00",
   "metadata": {},
   "outputs": [
    {
     "data": {
      "image/png": "[encoded data removed]",
      "text/plain": [
       "<Figure size 1200x600 with 1 Axes>"
      ]
     },
     "metadata": {},
     "output_type": "display_data"
    }
   ],
   "source": [
    "# Plot distributions\n",
    "plt.figure(figsize=(12, 6))\n",
    "sns.histplot(df['CURR_AGE'], bins=30, kde=True, color='blue', label='Age')\n",
    "plt.xlabel('Age')\n",
    "plt.ylabel('Count')\n",
    "plt.title('Distribution of Age')\n",
    "plt.legend()\n",
    "plt.show()"
   ]
  },
  {
   "cell_type": "code",
   "execution_count": 114,
   "id": "1629c489-1ba2-4eb3-ad55-2bf9688daa83",
   "metadata": {},
   "outputs": [
    {
     "name": "stdout",
     "output_type": "stream",
     "text": [
      "      ANN_INCOME Income_Category\n",
      "0  445344.000000       Very High\n",
      "1  107634.000000            High\n",
      "2  502786.666667       Very High\n",
      "3  585664.000000       Very High\n",
      "4  705722.666667       Very High\n"
     ]
    }
   ],
   "source": [
    "# Define custom income bins (adjust based on data distribution)\n",
    "bins = [0, 25000, 50000, 100000, 200000, df['ANN_INCOME'].max()]\n",
    "labels = ['Very Low', 'Low', 'Medium', 'High', 'Very High']\n",
    "\n",
    "# Apply categorization\n",
    "df['Income_Category'] = pd.cut(df['ANN_INCOME'], bins=bins, labels=labels, include_lowest=True)\n",
    "\n",
    "# View distribution\n",
    "print(df[['ANN_INCOME', 'Income_Category']].head())"
   ]
  },
  {
   "cell_type": "code",
   "execution_count": 115,
   "id": "3df12853-d9aa-4616-96f3-af8b7f5082a5",
   "metadata": {},
   "outputs": [
    {
     "data": {
      "text/plain": [
       "<Axes: xlabel='Income_Category', ylabel='count'>"
      ]
     },
     "execution_count": 115,
     "metadata": {},
     "output_type": "execute_result"
    },
    {
     "data": {
      "image/png": "[encoded data removed]",
      "text/plain": [
       "<Figure size 640x480 with 1 Axes>"
      ]
     },
     "metadata": {},
     "output_type": "display_data"
    }
   ],
   "source": [
    "sns.countplot(data=df,x='Income_Category',hue='PURCHASE')"
   ]
  },
  {
   "cell_type": "code",
   "execution_count": 117,
   "id": "c98454ca-095e-4e74-a55e-0638fd60c5ef",
   "metadata": {},
   "outputs": [
    {
     "name": "stdout",
     "output_type": "stream",
     "text": [
      "65\n"
     ]
    }
   ],
   "source": [
    "print(df['CURR_AGE'].max())"
   ]
  },
  {
   "cell_type": "code",
   "execution_count": 118,
   "id": "ca021375-79ad-4c1b-98bc-20cf00c0fbb6",
   "metadata": {},
   "outputs": [
    {
     "name": "stdout",
     "output_type": "stream",
     "text": [
      "   CURR_AGE        Age_Category\n",
      "0        50  46-60(Middle-Aged)\n",
      "1        35       31-45(Adults)\n",
      "2        59  46-60(Middle-Aged)\n",
      "3        43       31-45(Adults)\n",
      "4        39       31-45(Adults)\n"
     ]
    }
   ],
   "source": [
    "# Define custom income bins (adjust based on data distribution)\n",
    "bins = [0, 18, 30, 45, 60, df['CURR_AGE'].max()]  \n",
    "labels = ['0-18(Teenagers)', '19-30(Young Adults)', '31-45(Adults)', '46-60(Middle-Aged)', '61+(Seniors)']\n",
    "\n",
    "# Apply categorization\n",
    "df['Age_Category'] = pd.cut(df['CURR_AGE'], bins=bins,labels=labels,include_lowest=True)\n",
    "\n",
    "# View distribution\n",
    "print(df[['CURR_AGE', 'Age_Category']].head())"
   ]
  },
  {
   "cell_type": "code",
   "execution_count": 119,
   "id": "8de447f0-4a58-469c-a443-bb0c1a6d989d",
   "metadata": {},
   "outputs": [
    {
     "data": {
      "text/plain": [
       "<Axes: xlabel='Age_Category', ylabel='count'>"
      ]
     },
     "execution_count": 119,
     "metadata": {},
     "output_type": "execute_result"
    },
    {
     "data": {
      "image/png": "[encoded data removed]",
      "text/plain": [
       "<Figure size 1200x600 with 1 Axes>"
      ]
     },
     "metadata": {},
     "output_type": "display_data"
    }
   ],
   "source": [
    "import matplotlib.pyplot as plt\n",
    "plt.figure(figsize=(12,6))\n",
    "sns.countplot(data=df,x='Age_Category',hue='PURCHASE')"
   ]
  },
  {
   "cell_type": "code",
   "execution_count": 18,
   "id": "f83e196a-02c0-44b9-863d-9d13c7a5bead",
   "metadata": {},
   "outputs": [
    {
     "data": {
      "image/png": "[encoded data removed]",
      "text/plain": [
       "<Figure size 1200x600 with 1 Axes>"
      ]
     },
     "metadata": {},
     "output_type": "display_data"
    }
   ],
   "source": [
    "plt.figure(figsize=(12, 6))\n",
    "sns.histplot(df['ANN_INCOME'], bins=30, kde=True, color='green', label='Annual Income')\n",
    "plt.xlabel('Annual Income')\n",
    "plt.ylabel('Count')\n",
    "plt.title('Distribution of Annual Income')\n",
    "plt.legend()\n",
    "plt.show()"
   ]
  },
  {
   "cell_type": "code",
   "execution_count": 19,
   "id": "549312bb-a06d-461f-83d9-6770bd7119a0",
   "metadata": {},
   "outputs": [
    {
     "data": {
      "image/png": "[encoded data removed]",
      "text/plain": [
       "<Figure size 600x400 with 1 Axes>"
      ]
     },
     "metadata": {},
     "output_type": "display_data"
    },
    {
     "data": {
      "image/png": "[encoded data removed]",
      "text/plain": [
       "<Figure size 600x400 with 1 Axes>"
      ]
     },
     "metadata": {},
     "output_type": "display_data"
    }
   ],
   "source": [
    "# Countplot for categorical variable GENDER\n",
    "plt.figure(figsize=(6, 4))\n",
    "sns.countplot(x='GENDER', data=df, palette='pastel')\n",
    "plt.title('Gender Distribution')\n",
    "plt.show()\n",
    "\n",
    "# Countplot for PURCHASE\n",
    "plt.figure(figsize=(6, 4))\n",
    "sns.countplot(x='PURCHASE', data=df, palette='pastel')\n",
    "plt.title('Purchase Distribution')\n",
    "plt.show()"
   ]
  },
  {
   "cell_type": "code",
   "execution_count": 20,
   "id": "ee28b0e3-1888-41af-8c18-a420fa1606e7",
   "metadata": {},
   "outputs": [
    {
     "data": {
      "image/png": "[encoded data removed]",
      "text/plain": [
       "<Figure size 800x600 with 2 Axes>"
      ]
     },
     "metadata": {},
     "output_type": "display_data"
    }
   ],
   "source": [
    "# Correlation heatmap\n",
    "plt.figure(figsize=(8, 6))\n",
    "sns.heatmap(df.corr(numeric_only=True), annot=True, cmap='coolwarm', fmt=\".2f\")\n",
    "plt.title('Correlation Heatmap')\n",
    "plt.show()\n"
   ]
  },
  {
   "cell_type": "markdown",
   "id": "c43d8d01-dc38-48d2-9a09-0babbdb50179",
   "metadata": {},
   "source": [
    "## Summary Statistics:\n",
    "\n",
    "Age ranges from 25 to 65 years, with an average of ~45 years.\n",
    "Annual income varies from ~70K to ~800K, with an average of ~359K.\n",
    "Phone age ranges from 1 to 1020 days, averaging around 359 days.\n",
    "57.6% of the customers made a purchase.\n",
    "\n",
    "\n",
    "Distribution Insights:\n",
    "\n",
    "Age: Most customers are between 35-55 years.\n",
    "Annual Income: Right-skewed distribution, meaning some customers earn significantly more than the average.\n",
    "Gender: Appears balanced in distribution.\n",
    "Purchases: More people have made a purchase than not.\n",
    "\n",
    "\n",
    "Correlation Analysis:\n",
    "\n",
    "Purchase likelihood is slightly positively correlated with income.\n",
    "Phone age and purchase have a weak relationship, meaning customers may not necessarily buy a new phone just because theirs is old."
   ]
  },
  {
   "cell_type": "code",
   "execution_count": 21,
   "id": "25ca357c-9b78-4acc-80f0-e1229916e0e3",
   "metadata": {},
   "outputs": [
    {
     "name": "stdout",
     "output_type": "stream",
     "text": [
      "Mean Age: 44.99745\n",
      "Mean Annual Income: 359398.87805\n"
     ]
    }
   ],
   "source": [
    "# Mean of CURR_AGE column\n",
    "mean_age = df['CURR_AGE'].mean()\n",
    "print(\"Mean Age:\", mean_age)\n",
    "\n",
    "# Mean of ANN_INCOME column\n",
    "mean_income = df['ANN_INCOME'].mean()\n",
    "print(\"Mean Annual Income:\", mean_income)\n"
   ]
  },
  {
   "cell_type": "code",
   "execution_count": 22,
   "id": "8ea57a82-f9f8-47ef-b676-459879de01f1",
   "metadata": {},
   "outputs": [
    {
     "ename": "AttributeError",
     "evalue": "module 'matplotlib.pyplot' has no attribute 'Xlabel'",
     "output_type": "error",
     "traceback": [
      "\u001b[1;31m---------------------------------------------------------------------------\u001b[0m",
      "\u001b[1;31mAttributeError\u001b[0m                            Traceback (most recent call last)",
      "Cell \u001b[1;32mIn[22], line 4\u001b[0m\n\u001b[0;32m      2\u001b[0m sns\u001b[38;5;241m.\u001b[39mboxplot(x\u001b[38;5;241m=\u001b[39mdf[\u001b[38;5;124m'\u001b[39m\u001b[38;5;124mANN_INCOME\u001b[39m\u001b[38;5;124m'\u001b[39m],color \u001b[38;5;241m=\u001b[39m \u001b[38;5;124m'\u001b[39m\u001b[38;5;124mlightblue\u001b[39m\u001b[38;5;124m'\u001b[39m)\n\u001b[0;32m      3\u001b[0m plt\u001b[38;5;241m.\u001b[39mtitle(\u001b[38;5;124m'\u001b[39m\u001b[38;5;124mBoxplot of Annual Income\u001b[39m\u001b[38;5;124m'\u001b[39m)\n\u001b[1;32m----> 4\u001b[0m plt\u001b[38;5;241m.\u001b[39mXlabel(\u001b[38;5;124m'\u001b[39m\u001b[38;5;124mAnnual Income\u001b[39m\u001b[38;5;124m'\u001b[39m)\n\u001b[0;32m      5\u001b[0m plt\u001b[38;5;241m.\u001b[39mshow()\n",
      "\u001b[1;31mAttributeError\u001b[0m: module 'matplotlib.pyplot' has no attribute 'Xlabel'"
     ]
    },
    {
     "data": {
      "image/png": "[encoded data removed]",
      "text/plain": [
       "<Figure size 800x600 with 1 Axes>"
      ]
     },
     "metadata": {},
     "output_type": "display_data"
    }
   ],
   "source": [
    "plt.figure(figsize = (8,6))\n",
    "sns.boxplot(x=df['ANN_INCOME'],color = 'lightblue')\n",
    "plt.title('Boxplot of Annual Income')\n",
    "plt.Xlabel('Annual Income')\n",
    "plt.show()"
   ]
  },
  {
   "cell_type": "code",
   "execution_count": 24,
   "id": "39d73b73-1027-4201-a456-8abb7e3deb2d",
   "metadata": {},
   "outputs": [
    {
     "data": {
      "image/png": "[encoded data removed]",
      "text/plain": [
       "<Figure size 800x600 with 1 Axes>"
      ]
     },
     "metadata": {},
     "output_type": "display_data"
    }
   ],
   "source": [
    "plt.figure(figsize=(8, 6))\n",
    "sns.boxplot(x='GENDER', y='CURR_AGE', data=df, palette='pastel')\n",
    "plt.title('Age Distribution by Gender')\n",
    "plt.xlabel('Gender')\n",
    "plt.ylabel('Age')\n",
    "plt.show()\n"
   ]
  },
  {
   "cell_type": "code",
   "execution_count": 25,
   "id": "5e307ff1-36fb-40b3-b794-bf7ba28e8fdf",
   "metadata": {},
   "outputs": [],
   "source": [
    "## independent features and dependent features\n",
    "X = df[['ANN_INCOME', 'AGE_PHN']]\n",
    "Y = df['PURCHASE']"
   ]
  },
  {
   "cell_type": "code",
   "execution_count": 26,
   "id": "69e48138-87a3-48a5-9147-01a744d5ce93",
   "metadata": {},
   "outputs": [
    {
     "data": {
      "text/plain": [
       "0        0\n",
       "1        0\n",
       "2        1\n",
       "3        0\n",
       "4        1\n",
       "        ..\n",
       "39995    1\n",
       "39996    0\n",
       "39997    1\n",
       "39998    1\n",
       "39999    1\n",
       "Name: PURCHASE, Length: 40000, dtype: int64"
      ]
     },
     "execution_count": 26,
     "metadata": {},
     "output_type": "execute_result"
    }
   ],
   "source": [
    "Y"
   ]
  },
  {
   "cell_type": "code",
   "execution_count": 27,
   "id": "c5d8d235-2894-45a3-b4d2-87d04965bdac",
   "metadata": {},
   "outputs": [],
   "source": [
    "## trai test split\n",
    "X_train,X_test,Y_train,Y_test = train_test_split(X,Y,test_size = 0.30, random_state = 42)"
   ]
  },
  {
   "cell_type": "code",
   "execution_count": 28,
   "id": "fa4c3377-e3d7-4944-81b0-e877c75fa8ee",
   "metadata": {},
   "outputs": [
    {
     "data": {
      "text/html": [
       "<div>\n",
       "<style scoped>\n",
       "    .dataframe tbody tr th:only-of-type {\n",
       "        vertical-align: middle;\n",
       "    }\n",
       "\n",
       "    .dataframe tbody tr th {\n",
       "        vertical-align: top;\n",
       "    }\n",
       "\n",
       "    .dataframe thead th {\n",
       "        text-align: right;\n",
       "    }\n",
       "</style>\n",
       "<table border=\"1\" class=\"dataframe\">\n",
       "  <thead>\n",
       "    <tr style=\"text-align: right;\">\n",
       "      <th></th>\n",
       "      <th>ANN_INCOME</th>\n",
       "      <th>AGE_PHN</th>\n",
       "    </tr>\n",
       "  </thead>\n",
       "  <tbody>\n",
       "    <tr>\n",
       "      <th>38015</th>\n",
       "      <td>293466.666667</td>\n",
       "      <td>291</td>\n",
       "    </tr>\n",
       "    <tr>\n",
       "      <th>2281</th>\n",
       "      <td>264412.000000</td>\n",
       "      <td>771</td>\n",
       "    </tr>\n",
       "    <tr>\n",
       "      <th>36629</th>\n",
       "      <td>356960.000000</td>\n",
       "      <td>787</td>\n",
       "    </tr>\n",
       "    <tr>\n",
       "      <th>6087</th>\n",
       "      <td>757996.000000</td>\n",
       "      <td>416</td>\n",
       "    </tr>\n",
       "    <tr>\n",
       "      <th>11792</th>\n",
       "      <td>106968.000000</td>\n",
       "      <td>815</td>\n",
       "    </tr>\n",
       "    <tr>\n",
       "      <th>...</th>\n",
       "      <td>...</td>\n",
       "      <td>...</td>\n",
       "    </tr>\n",
       "    <tr>\n",
       "      <th>6265</th>\n",
       "      <td>287185.000000</td>\n",
       "      <td>169</td>\n",
       "    </tr>\n",
       "    <tr>\n",
       "      <th>11284</th>\n",
       "      <td>225808.000000</td>\n",
       "      <td>224</td>\n",
       "    </tr>\n",
       "    <tr>\n",
       "      <th>38158</th>\n",
       "      <td>766121.000000</td>\n",
       "      <td>313</td>\n",
       "    </tr>\n",
       "    <tr>\n",
       "      <th>860</th>\n",
       "      <td>295184.000000</td>\n",
       "      <td>451</td>\n",
       "    </tr>\n",
       "    <tr>\n",
       "      <th>15795</th>\n",
       "      <td>451336.000000</td>\n",
       "      <td>300</td>\n",
       "    </tr>\n",
       "  </tbody>\n",
       "</table>\n",
       "<p>28000 rows × 2 columns</p>\n",
       "</div>"
      ],
      "text/plain": [
       "          ANN_INCOME  AGE_PHN\n",
       "38015  293466.666667      291\n",
       "2281   264412.000000      771\n",
       "36629  356960.000000      787\n",
       "6087   757996.000000      416\n",
       "11792  106968.000000      815\n",
       "...              ...      ...\n",
       "6265   287185.000000      169\n",
       "11284  225808.000000      224\n",
       "38158  766121.000000      313\n",
       "860    295184.000000      451\n",
       "15795  451336.000000      300\n",
       "\n",
       "[28000 rows x 2 columns]"
      ]
     },
     "execution_count": 28,
     "metadata": {},
     "output_type": "execute_result"
    }
   ],
   "source": [
    "X_train"
   ]
  },
  {
   "cell_type": "code",
   "execution_count": 124,
   "id": "3261149b-7357-4641-9a8f-e999f388ca90",
   "metadata": {},
   "outputs": [
    {
     "data": {
      "text/plain": [
       "array([0, 0, 1, ..., 1, 0, 0])"
      ]
     },
     "execution_count": 124,
     "metadata": {},
     "output_type": "execute_result"
    }
   ],
   "source": [
    "Y_train"
   ]
  },
  {
   "cell_type": "code",
   "execution_count": 29,
   "id": "3adf7df0-793c-4b16-9095-c59e9a289380",
   "metadata": {},
   "outputs": [],
   "source": [
    "Scaler = StandardScaler()\n",
    "X_train = Scaler.fit_transform(X_train)"
   ]
  },
  {
   "cell_type": "code",
   "execution_count": 30,
   "id": "144bbdd5-c98e-467e-985c-5d3cfd9c9f89",
   "metadata": {},
   "outputs": [],
   "source": [
    "X_test = Scaler.transform(X_test)"
   ]
  },
  {
   "cell_type": "code",
   "execution_count": 31,
   "id": "13b1df86-a4bf-4e84-b1ae-3ce81b920d79",
   "metadata": {},
   "outputs": [],
   "source": [
    "## cross validation\n",
    "\n",
    "from sklearn.model_selection import cross_val_score\n",
    "\n"
   ]
  },
  {
   "cell_type": "code",
   "execution_count": 32,
   "id": "6072d56f-fe1b-4273-ac4a-3d1ecaaaaa18",
   "metadata": {},
   "outputs": [
    {
     "data": {
      "text/html": [
       "<style>#sk-container-id-1 {\n",
       "  /* Definition of color scheme common for light and dark mode */\n",
       "  --sklearn-color-text: black;\n",
       "  --sklearn-color-line: gray;\n",
       "  /* Definition of color scheme for unfitted estimators */\n",
       "  --sklearn-color-unfitted-level-0: #fff5e6;\n",
       "  --sklearn-color-unfitted-level-1: #f6e4d2;\n",
       "  --sklearn-color-unfitted-level-2: #ffe0b3;\n",
       "  --sklearn-color-unfitted-level-3: chocolate;\n",
       "  /* Definition of color scheme for fitted estimators */\n",
       "  --sklearn-color-fitted-level-0: #f0f8ff;\n",
       "  --sklearn-color-fitted-level-1: #d4ebff;\n",
       "  --sklearn-color-fitted-level-2: #b3dbfd;\n",
       "  --sklearn-color-fitted-level-3: cornflowerblue;\n",
       "\n",
       "  /* Specific color for light theme */\n",
       "  --sklearn-color-text-on-default-background: var(--sg-text-color, var(--theme-code-foreground, var(--jp-content-font-color1, black)));\n",
       "  --sklearn-color-background: var(--sg-background-color, var(--theme-background, var(--jp-layout-color0, white)));\n",
       "  --sklearn-color-border-box: var(--sg-text-color, var(--theme-code-foreground, var(--jp-content-font-color1, black)));\n",
       "  --sklearn-color-icon: #696969;\n",
       "\n",
       "  @media (prefers-color-scheme: dark) {\n",
       "    /* Redefinition of color scheme for dark theme */\n",
       "    --sklearn-color-text-on-default-background: var(--sg-text-color, var(--theme-code-foreground, var(--jp-content-font-color1, white)));\n",
       "    --sklearn-color-background: var(--sg-background-color, var(--theme-background, var(--jp-layout-color0, #111)));\n",
       "    --sklearn-color-border-box: var(--sg-text-color, var(--theme-code-foreground, var(--jp-content-font-color1, white)));\n",
       "    --sklearn-color-icon: #878787;\n",
       "  }\n",
       "}\n",
       "\n",
       "#sk-container-id-1 {\n",
       "  color: var(--sklearn-color-text);\n",
       "}\n",
       "\n",
       "#sk-container-id-1 pre {\n",
       "  padding: 0;\n",
       "}\n",
       "\n",
       "#sk-container-id-1 input.sk-hidden--visually {\n",
       "  border: 0;\n",
       "  clip: rect(1px 1px 1px 1px);\n",
       "  clip: rect(1px, 1px, 1px, 1px);\n",
       "  height: 1px;\n",
       "  margin: -1px;\n",
       "  overflow: hidden;\n",
       "  padding: 0;\n",
       "  position: absolute;\n",
       "  width: 1px;\n",
       "}\n",
       "\n",
       "#sk-container-id-1 div.sk-dashed-wrapped {\n",
       "  border: 1px dashed var(--sklearn-color-line);\n",
       "  margin: 0 0.4em 0.5em 0.4em;\n",
       "  box-sizing: border-box;\n",
       "  padding-bottom: 0.4em;\n",
       "  background-color: var(--sklearn-color-background);\n",
       "}\n",
       "\n",
       "#sk-container-id-1 div.sk-container {\n",
       "  /* jupyter's `normalize.less` sets `[hidden] { display: none; }`\n",
       "     but bootstrap.min.css set `[hidden] { display: none !important; }`\n",
       "     so we also need the `!important` here to be able to override the\n",
       "     default hidden behavior on the sphinx rendered scikit-learn.org.\n",
       "     See: https://github.com/scikit-learn/scikit-learn/issues/21755 */\n",
       "  display: inline-block !important;\n",
       "  position: relative;\n",
       "}\n",
       "\n",
       "#sk-container-id-1 div.sk-text-repr-fallback {\n",
       "  display: none;\n",
       "}\n",
       "\n",
       "div.sk-parallel-item,\n",
       "div.sk-serial,\n",
       "div.sk-item {\n",
       "  /* draw centered vertical line to link estimators */\n",
       "  background-image: linear-gradient(var(--sklearn-color-text-on-default-background), var(--sklearn-color-text-on-default-background));\n",
       "  background-size: 2px 100%;\n",
       "  background-repeat: no-repeat;\n",
       "  background-position: center center;\n",
       "}\n",
       "\n",
       "/* Parallel-specific style estimator block */\n",
       "\n",
       "#sk-container-id-1 div.sk-parallel-item::after {\n",
       "  content: \"\";\n",
       "  width: 100%;\n",
       "  border-bottom: 2px solid var(--sklearn-color-text-on-default-background);\n",
       "  flex-grow: 1;\n",
       "}\n",
       "\n",
       "#sk-container-id-1 div.sk-parallel {\n",
       "  display: flex;\n",
       "  align-items: stretch;\n",
       "  justify-content: center;\n",
       "  background-color: var(--sklearn-color-background);\n",
       "  position: relative;\n",
       "}\n",
       "\n",
       "#sk-container-id-1 div.sk-parallel-item {\n",
       "  display: flex;\n",
       "  flex-direction: column;\n",
       "}\n",
       "\n",
       "#sk-container-id-1 div.sk-parallel-item:first-child::after {\n",
       "  align-self: flex-end;\n",
       "  width: 50%;\n",
       "}\n",
       "\n",
       "#sk-container-id-1 div.sk-parallel-item:last-child::after {\n",
       "  align-self: flex-start;\n",
       "  width: 50%;\n",
       "}\n",
       "\n",
       "#sk-container-id-1 div.sk-parallel-item:only-child::after {\n",
       "  width: 0;\n",
       "}\n",
       "\n",
       "/* Serial-specific style estimator block */\n",
       "\n",
       "#sk-container-id-1 div.sk-serial {\n",
       "  display: flex;\n",
       "  flex-direction: column;\n",
       "  align-items: center;\n",
       "  background-color: var(--sklearn-color-background);\n",
       "  padding-right: 1em;\n",
       "  padding-left: 1em;\n",
       "}\n",
       "\n",
       "\n",
       "/* Toggleable style: style used for estimator/Pipeline/ColumnTransformer box that is\n",
       "clickable and can be expanded/collapsed.\n",
       "- Pipeline and ColumnTransformer use this feature and define the default style\n",
       "- Estimators will overwrite some part of the style using the `sk-estimator` class\n",
       "*/\n",
       "\n",
       "/* Pipeline and ColumnTransformer style (default) */\n",
       "\n",
       "#sk-container-id-1 div.sk-toggleable {\n",
       "  /* Default theme specific background. It is overwritten whether we have a\n",
       "  specific estimator or a Pipeline/ColumnTransformer */\n",
       "  background-color: var(--sklearn-color-background);\n",
       "}\n",
       "\n",
       "/* Toggleable label */\n",
       "#sk-container-id-1 label.sk-toggleable__label {\n",
       "  cursor: pointer;\n",
       "  display: block;\n",
       "  width: 100%;\n",
       "  margin-bottom: 0;\n",
       "  padding: 0.5em;\n",
       "  box-sizing: border-box;\n",
       "  text-align: center;\n",
       "}\n",
       "\n",
       "#sk-container-id-1 label.sk-toggleable__label-arrow:before {\n",
       "  /* Arrow on the left of the label */\n",
       "  content: \"▸\";\n",
       "  float: left;\n",
       "  margin-right: 0.25em;\n",
       "  color: var(--sklearn-color-icon);\n",
       "}\n",
       "\n",
       "#sk-container-id-1 label.sk-toggleable__label-arrow:hover:before {\n",
       "  color: var(--sklearn-color-text);\n",
       "}\n",
       "\n",
       "/* Toggleable content - dropdown */\n",
       "\n",
       "#sk-container-id-1 div.sk-toggleable__content {\n",
       "  max-height: 0;\n",
       "  max-width: 0;\n",
       "  overflow: hidden;\n",
       "  text-align: left;\n",
       "  /* unfitted */\n",
       "  background-color: var(--sklearn-color-unfitted-level-0);\n",
       "}\n",
       "\n",
       "#sk-container-id-1 div.sk-toggleable__content.fitted {\n",
       "  /* fitted */\n",
       "  background-color: var(--sklearn-color-fitted-level-0);\n",
       "}\n",
       "\n",
       "#sk-container-id-1 div.sk-toggleable__content pre {\n",
       "  margin: 0.2em;\n",
       "  border-radius: 0.25em;\n",
       "  color: var(--sklearn-color-text);\n",
       "  /* unfitted */\n",
       "  background-color: var(--sklearn-color-unfitted-level-0);\n",
       "}\n",
       "\n",
       "#sk-container-id-1 div.sk-toggleable__content.fitted pre {\n",
       "  /* unfitted */\n",
       "  background-color: var(--sklearn-color-fitted-level-0);\n",
       "}\n",
       "\n",
       "#sk-container-id-1 input.sk-toggleable__control:checked~div.sk-toggleable__content {\n",
       "  /* Expand drop-down */\n",
       "  max-height: 200px;\n",
       "  max-width: 100%;\n",
       "  overflow: auto;\n",
       "}\n",
       "\n",
       "#sk-container-id-1 input.sk-toggleable__control:checked~label.sk-toggleable__label-arrow:before {\n",
       "  content: \"▾\";\n",
       "}\n",
       "\n",
       "/* Pipeline/ColumnTransformer-specific style */\n",
       "\n",
       "#sk-container-id-1 div.sk-label input.sk-toggleable__control:checked~label.sk-toggleable__label {\n",
       "  color: var(--sklearn-color-text);\n",
       "  background-color: var(--sklearn-color-unfitted-level-2);\n",
       "}\n",
       "\n",
       "#sk-container-id-1 div.sk-label.fitted input.sk-toggleable__control:checked~label.sk-toggleable__label {\n",
       "  background-color: var(--sklearn-color-fitted-level-2);\n",
       "}\n",
       "\n",
       "/* Estimator-specific style */\n",
       "\n",
       "/* Colorize estimator box */\n",
       "#sk-container-id-1 div.sk-estimator input.sk-toggleable__control:checked~label.sk-toggleable__label {\n",
       "  /* unfitted */\n",
       "  background-color: var(--sklearn-color-unfitted-level-2);\n",
       "}\n",
       "\n",
       "#sk-container-id-1 div.sk-estimator.fitted input.sk-toggleable__control:checked~label.sk-toggleable__label {\n",
       "  /* fitted */\n",
       "  background-color: var(--sklearn-color-fitted-level-2);\n",
       "}\n",
       "\n",
       "#sk-container-id-1 div.sk-label label.sk-toggleable__label,\n",
       "#sk-container-id-1 div.sk-label label {\n",
       "  /* The background is the default theme color */\n",
       "  color: var(--sklearn-color-text-on-default-background);\n",
       "}\n",
       "\n",
       "/* On hover, darken the color of the background */\n",
       "#sk-container-id-1 div.sk-label:hover label.sk-toggleable__label {\n",
       "  color: var(--sklearn-color-text);\n",
       "  background-color: var(--sklearn-color-unfitted-level-2);\n",
       "}\n",
       "\n",
       "/* Label box, darken color on hover, fitted */\n",
       "#sk-container-id-1 div.sk-label.fitted:hover label.sk-toggleable__label.fitted {\n",
       "  color: var(--sklearn-color-text);\n",
       "  background-color: var(--sklearn-color-fitted-level-2);\n",
       "}\n",
       "\n",
       "/* Estimator label */\n",
       "\n",
       "#sk-container-id-1 div.sk-label label {\n",
       "  font-family: monospace;\n",
       "  font-weight: bold;\n",
       "  display: inline-block;\n",
       "  line-height: 1.2em;\n",
       "}\n",
       "\n",
       "#sk-container-id-1 div.sk-label-container {\n",
       "  text-align: center;\n",
       "}\n",
       "\n",
       "/* Estimator-specific */\n",
       "#sk-container-id-1 div.sk-estimator {\n",
       "  font-family: monospace;\n",
       "  border: 1px dotted var(--sklearn-color-border-box);\n",
       "  border-radius: 0.25em;\n",
       "  box-sizing: border-box;\n",
       "  margin-bottom: 0.5em;\n",
       "  /* unfitted */\n",
       "  background-color: var(--sklearn-color-unfitted-level-0);\n",
       "}\n",
       "\n",
       "#sk-container-id-1 div.sk-estimator.fitted {\n",
       "  /* fitted */\n",
       "  background-color: var(--sklearn-color-fitted-level-0);\n",
       "}\n",
       "\n",
       "/* on hover */\n",
       "#sk-container-id-1 div.sk-estimator:hover {\n",
       "  /* unfitted */\n",
       "  background-color: var(--sklearn-color-unfitted-level-2);\n",
       "}\n",
       "\n",
       "#sk-container-id-1 div.sk-estimator.fitted:hover {\n",
       "  /* fitted */\n",
       "  background-color: var(--sklearn-color-fitted-level-2);\n",
       "}\n",
       "\n",
       "/* Specification for estimator info (e.g. \"i\" and \"?\") */\n",
       "\n",
       "/* Common style for \"i\" and \"?\" */\n",
       "\n",
       ".sk-estimator-doc-link,\n",
       "a:link.sk-estimator-doc-link,\n",
       "a:visited.sk-estimator-doc-link {\n",
       "  float: right;\n",
       "  font-size: smaller;\n",
       "  line-height: 1em;\n",
       "  font-family: monospace;\n",
       "  background-color: var(--sklearn-color-background);\n",
       "  border-radius: 1em;\n",
       "  height: 1em;\n",
       "  width: 1em;\n",
       "  text-decoration: none !important;\n",
       "  margin-left: 1ex;\n",
       "  /* unfitted */\n",
       "  border: var(--sklearn-color-unfitted-level-1) 1pt solid;\n",
       "  color: var(--sklearn-color-unfitted-level-1);\n",
       "}\n",
       "\n",
       ".sk-estimator-doc-link.fitted,\n",
       "a:link.sk-estimator-doc-link.fitted,\n",
       "a:visited.sk-estimator-doc-link.fitted {\n",
       "  /* fitted */\n",
       "  border: var(--sklearn-color-fitted-level-1) 1pt solid;\n",
       "  color: var(--sklearn-color-fitted-level-1);\n",
       "}\n",
       "\n",
       "/* On hover */\n",
       "div.sk-estimator:hover .sk-estimator-doc-link:hover,\n",
       ".sk-estimator-doc-link:hover,\n",
       "div.sk-label-container:hover .sk-estimator-doc-link:hover,\n",
       ".sk-estimator-doc-link:hover {\n",
       "  /* unfitted */\n",
       "  background-color: var(--sklearn-color-unfitted-level-3);\n",
       "  color: var(--sklearn-color-background);\n",
       "  text-decoration: none;\n",
       "}\n",
       "\n",
       "div.sk-estimator.fitted:hover .sk-estimator-doc-link.fitted:hover,\n",
       ".sk-estimator-doc-link.fitted:hover,\n",
       "div.sk-label-container:hover .sk-estimator-doc-link.fitted:hover,\n",
       ".sk-estimator-doc-link.fitted:hover {\n",
       "  /* fitted */\n",
       "  background-color: var(--sklearn-color-fitted-level-3);\n",
       "  color: var(--sklearn-color-background);\n",
       "  text-decoration: none;\n",
       "}\n",
       "\n",
       "/* Span, style for the box shown on hovering the info icon */\n",
       ".sk-estimator-doc-link span {\n",
       "  display: none;\n",
       "  z-index: 9999;\n",
       "  position: relative;\n",
       "  font-weight: normal;\n",
       "  right: .2ex;\n",
       "  padding: .5ex;\n",
       "  margin: .5ex;\n",
       "  width: min-content;\n",
       "  min-width: 20ex;\n",
       "  max-width: 50ex;\n",
       "  color: var(--sklearn-color-text);\n",
       "  box-shadow: 2pt 2pt 4pt #999;\n",
       "  /* unfitted */\n",
       "  background: var(--sklearn-color-unfitted-level-0);\n",
       "  border: .5pt solid var(--sklearn-color-unfitted-level-3);\n",
       "}\n",
       "\n",
       ".sk-estimator-doc-link.fitted span {\n",
       "  /* fitted */\n",
       "  background: var(--sklearn-color-fitted-level-0);\n",
       "  border: var(--sklearn-color-fitted-level-3);\n",
       "}\n",
       "\n",
       ".sk-estimator-doc-link:hover span {\n",
       "  display: block;\n",
       "}\n",
       "\n",
       "/* \"?\"-specific style due to the `<a>` HTML tag */\n",
       "\n",
       "#sk-container-id-1 a.estimator_doc_link {\n",
       "  float: right;\n",
       "  font-size: 1rem;\n",
       "  line-height: 1em;\n",
       "  font-family: monospace;\n",
       "  background-color: var(--sklearn-color-background);\n",
       "  border-radius: 1rem;\n",
       "  height: 1rem;\n",
       "  width: 1rem;\n",
       "  text-decoration: none;\n",
       "  /* unfitted */\n",
       "  color: var(--sklearn-color-unfitted-level-1);\n",
       "  border: var(--sklearn-color-unfitted-level-1) 1pt solid;\n",
       "}\n",
       "\n",
       "#sk-container-id-1 a.estimator_doc_link.fitted {\n",
       "  /* fitted */\n",
       "  border: var(--sklearn-color-fitted-level-1) 1pt solid;\n",
       "  color: var(--sklearn-color-fitted-level-1);\n",
       "}\n",
       "\n",
       "/* On hover */\n",
       "#sk-container-id-1 a.estimator_doc_link:hover {\n",
       "  /* unfitted */\n",
       "  background-color: var(--sklearn-color-unfitted-level-3);\n",
       "  color: var(--sklearn-color-background);\n",
       "  text-decoration: none;\n",
       "}\n",
       "\n",
       "#sk-container-id-1 a.estimator_doc_link.fitted:hover {\n",
       "  /* fitted */\n",
       "  background-color: var(--sklearn-color-fitted-level-3);\n",
       "}\n",
       "</style><div id=\"sk-container-id-1\" class=\"sk-top-container\"><div class=\"sk-text-repr-fallback\"><pre>LinearRegression()</pre><b>In a Jupyter environment, please rerun this cell to show the HTML representation or trust the notebook. <br />On GitHub, the HTML representation is unable to render, please try loading this page with nbviewer.org.</b></div><div class=\"sk-container\" hidden><div class=\"sk-item\"><div class=\"sk-estimator fitted sk-toggleable\"><input class=\"sk-toggleable__control sk-hidden--visually\" id=\"sk-estimator-id-1\" type=\"checkbox\" checked><label for=\"sk-estimator-id-1\" class=\"sk-toggleable__label fitted sk-toggleable__label-arrow fitted\">&nbsp;&nbsp;LinearRegression<a class=\"sk-estimator-doc-link fitted\" rel=\"noreferrer\" target=\"_blank\" href=\"https://scikit-learn.org/1.5/modules/generated/sklearn.linear_model.LinearRegression.html\">?<span>Documentation for LinearRegression</span></a><span class=\"sk-estimator-doc-link fitted\">i<span>Fitted</span></span></label><div class=\"sk-toggleable__content fitted\"><pre>LinearRegression()</pre></div> </div></div></div></div>"
      ],
      "text/plain": [
       "LinearRegression()"
      ]
     },
     "execution_count": 32,
     "metadata": {},
     "output_type": "execute_result"
    }
   ],
   "source": [
    "from sklearn.linear_model import LinearRegression\n",
    "\n",
    "regression = LinearRegression()\n",
    "regression.fit(X_train,Y_train)"
   ]
  },
  {
   "cell_type": "code",
   "execution_count": 33,
   "id": "24cdf8ff-2d9f-4871-9e79-3247c164fbb6",
   "metadata": {},
   "outputs": [],
   "source": [
    "## trai test split\n",
    "mse = cross_val_score(regression,X_train,Y_train,scoring = 'neg_mean_squared_error',cv=5)"
   ]
  },
  {
   "cell_type": "code",
   "execution_count": 34,
   "id": "7c58e3d8-32d0-46e2-a217-b812b139978c",
   "metadata": {},
   "outputs": [
    {
     "data": {
      "text/plain": [
       "-0.2138395470017243"
      ]
     },
     "execution_count": 34,
     "metadata": {},
     "output_type": "execute_result"
    }
   ],
   "source": [
    "np.mean(mse)"
   ]
  },
  {
   "cell_type": "code",
   "execution_count": 35,
   "id": "5014abf2-ee9a-4112-97c0-5b59861fe176",
   "metadata": {},
   "outputs": [],
   "source": [
    "## prediction\n",
    "reg_pred = regression.predict(X_test)"
   ]
  },
  {
   "cell_type": "code",
   "execution_count": 36,
   "id": "9c084592-0ae8-44f9-a711-db6600eafc20",
   "metadata": {},
   "outputs": [
    {
     "data": {
      "text/plain": [
       "array([0.44651165, 0.46350869, 0.51145201, ..., 0.46776995, 0.67608909,\n",
       "       0.51791627])"
      ]
     },
     "execution_count": 36,
     "metadata": {},
     "output_type": "execute_result"
    }
   ],
   "source": [
    "reg_pred"
   ]
  },
  {
   "cell_type": "code",
   "execution_count": 37,
   "id": "293dba4b-3161-44e0-9c40-23cd9e78da6e",
   "metadata": {},
   "outputs": [
    {
     "data": {
      "text/plain": [
       "<seaborn.axisgrid.FacetGrid at 0x2624ff5a990>"
      ]
     },
     "execution_count": 37,
     "metadata": {},
     "output_type": "execute_result"
    },
    {
     "data": {
      "image/png": "[encoded data removed]",
      "text/plain": [
       "<Figure size 500x500 with 1 Axes>"
      ]
     },
     "metadata": {},
     "output_type": "display_data"
    }
   ],
   "source": [
    "sns.displot(reg_pred-Y_test,kind = 'kde')"
   ]
  },
  {
   "cell_type": "code",
   "execution_count": 38,
   "id": "464426e8-750f-4589-a464-9822c5765863",
   "metadata": {},
   "outputs": [],
   "source": [
    "from sklearn.metrics import r2_score"
   ]
  },
  {
   "cell_type": "code",
   "execution_count": 39,
   "id": "25a512e8-ec81-4cfa-bf63-a639b5cc594b",
   "metadata": {},
   "outputs": [],
   "source": [
    "score = r2_score(reg_pred,Y_test)"
   ]
  },
  {
   "cell_type": "code",
   "execution_count": 40,
   "id": "da1303d6-f522-4499-abe4-97a3ca224ff1",
   "metadata": {},
   "outputs": [
    {
     "data": {
      "text/plain": [
       "-5.7412031778544685"
      ]
     },
     "execution_count": 40,
     "metadata": {},
     "output_type": "execute_result"
    }
   ],
   "source": [
    "score"
   ]
  },
  {
   "cell_type": "code",
   "execution_count": 41,
   "id": "6e1b7a06-3fb7-4331-80c0-03cbc9c3948f",
   "metadata": {},
   "outputs": [
    {
     "data": {
      "text/html": [
       "<div>\n",
       "<style scoped>\n",
       "    .dataframe tbody tr th:only-of-type {\n",
       "        vertical-align: middle;\n",
       "    }\n",
       "\n",
       "    .dataframe tbody tr th {\n",
       "        vertical-align: top;\n",
       "    }\n",
       "\n",
       "    .dataframe thead th {\n",
       "        text-align: right;\n",
       "    }\n",
       "</style>\n",
       "<table border=\"1\" class=\"dataframe\">\n",
       "  <thead>\n",
       "    <tr style=\"text-align: right;\">\n",
       "      <th></th>\n",
       "      <th>CURR_AGE</th>\n",
       "      <th>ANN_INCOME</th>\n",
       "      <th>AGE_PHN</th>\n",
       "      <th>PURCHASE</th>\n",
       "      <th>GENDER_M</th>\n",
       "    </tr>\n",
       "  </thead>\n",
       "  <tbody>\n",
       "    <tr>\n",
       "      <th>0</th>\n",
       "      <td>50</td>\n",
       "      <td>445344</td>\n",
       "      <td>439</td>\n",
       "      <td>0</td>\n",
       "      <td>1</td>\n",
       "    </tr>\n",
       "    <tr>\n",
       "      <th>1</th>\n",
       "      <td>35</td>\n",
       "      <td>107634</td>\n",
       "      <td>283</td>\n",
       "      <td>0</td>\n",
       "      <td>1</td>\n",
       "    </tr>\n",
       "    <tr>\n",
       "      <th>2</th>\n",
       "      <td>59</td>\n",
       "      <td>502786</td>\n",
       "      <td>390</td>\n",
       "      <td>1</td>\n",
       "      <td>0</td>\n",
       "    </tr>\n",
       "    <tr>\n",
       "      <th>3</th>\n",
       "      <td>43</td>\n",
       "      <td>585664</td>\n",
       "      <td>475</td>\n",
       "      <td>0</td>\n",
       "      <td>1</td>\n",
       "    </tr>\n",
       "    <tr>\n",
       "      <th>4</th>\n",
       "      <td>39</td>\n",
       "      <td>705722</td>\n",
       "      <td>497</td>\n",
       "      <td>1</td>\n",
       "      <td>0</td>\n",
       "    </tr>\n",
       "  </tbody>\n",
       "</table>\n",
       "</div>"
      ],
      "text/plain": [
       "   CURR_AGE  ANN_INCOME  AGE_PHN  PURCHASE  GENDER_M\n",
       "0        50      445344      439         0         1\n",
       "1        35      107634      283         0         1\n",
       "2        59      502786      390         1         0\n",
       "3        43      585664      475         0         1\n",
       "4        39      705722      497         1         0"
      ]
     },
     "execution_count": 41,
     "metadata": {},
     "output_type": "execute_result"
    }
   ],
   "source": [
    "dummy = pd.get_dummies(df[['CURR_AGE','GENDER','ANN_INCOME','AGE_PHN','PURCHASE']], \n",
    "                       drop_first=True)\n",
    "\n",
    "# Ensuring all dummy variables are integers\n",
    "dummy = dummy.astype(int)\n",
    "\n",
    "# Displaying the first few rows\n",
    "dummy.head()\n",
    "\n"
   ]
  },
  {
   "cell_type": "code",
   "execution_count": 42,
   "id": "9dc49760-6bff-4090-956c-f20c0f748ec6",
   "metadata": {},
   "outputs": [
    {
     "data": {
      "text/html": [
       "<div>\n",
       "<style scoped>\n",
       "    .dataframe tbody tr th:only-of-type {\n",
       "        vertical-align: middle;\n",
       "    }\n",
       "\n",
       "    .dataframe tbody tr th {\n",
       "        vertical-align: top;\n",
       "    }\n",
       "\n",
       "    .dataframe thead th {\n",
       "        text-align: right;\n",
       "    }\n",
       "</style>\n",
       "<table border=\"1\" class=\"dataframe\">\n",
       "  <thead>\n",
       "    <tr style=\"text-align: right;\">\n",
       "      <th></th>\n",
       "      <th>ANN_INCOME</th>\n",
       "      <th>AGE_PHN</th>\n",
       "      <th>CURR_AGE</th>\n",
       "      <th>ANN_INCOME</th>\n",
       "      <th>AGE_PHN</th>\n",
       "      <th>PURCHASE</th>\n",
       "      <th>GENDER_M</th>\n",
       "    </tr>\n",
       "  </thead>\n",
       "  <tbody>\n",
       "    <tr>\n",
       "      <th>0</th>\n",
       "      <td>445344.000000</td>\n",
       "      <td>439</td>\n",
       "      <td>50</td>\n",
       "      <td>445344</td>\n",
       "      <td>439</td>\n",
       "      <td>0</td>\n",
       "      <td>1</td>\n",
       "    </tr>\n",
       "    <tr>\n",
       "      <th>1</th>\n",
       "      <td>107634.000000</td>\n",
       "      <td>283</td>\n",
       "      <td>35</td>\n",
       "      <td>107634</td>\n",
       "      <td>283</td>\n",
       "      <td>0</td>\n",
       "      <td>1</td>\n",
       "    </tr>\n",
       "    <tr>\n",
       "      <th>2</th>\n",
       "      <td>502786.666667</td>\n",
       "      <td>390</td>\n",
       "      <td>59</td>\n",
       "      <td>502786</td>\n",
       "      <td>390</td>\n",
       "      <td>1</td>\n",
       "      <td>0</td>\n",
       "    </tr>\n",
       "    <tr>\n",
       "      <th>3</th>\n",
       "      <td>585664.000000</td>\n",
       "      <td>475</td>\n",
       "      <td>43</td>\n",
       "      <td>585664</td>\n",
       "      <td>475</td>\n",
       "      <td>0</td>\n",
       "      <td>1</td>\n",
       "    </tr>\n",
       "    <tr>\n",
       "      <th>4</th>\n",
       "      <td>705722.666667</td>\n",
       "      <td>497</td>\n",
       "      <td>39</td>\n",
       "      <td>705722</td>\n",
       "      <td>497</td>\n",
       "      <td>1</td>\n",
       "      <td>0</td>\n",
       "    </tr>\n",
       "  </tbody>\n",
       "</table>\n",
       "</div>"
      ],
      "text/plain": [
       "      ANN_INCOME  AGE_PHN  CURR_AGE  ANN_INCOME  AGE_PHN  PURCHASE  GENDER_M\n",
       "0  445344.000000      439        50      445344      439         0         1\n",
       "1  107634.000000      283        35      107634      283         0         1\n",
       "2  502786.666667      390        59      502786      390         1         0\n",
       "3  585664.000000      475        43      585664      475         0         1\n",
       "4  705722.666667      497        39      705722      497         1         0"
      ]
     },
     "execution_count": 42,
     "metadata": {},
     "output_type": "execute_result"
    }
   ],
   "source": [
    "# Concatenating with X\n",
    "X = pd.concat([X, dummy], axis=1)\n",
    "# Displaying the first few rows\n",
    "X.head()"
   ]
  },
  {
   "cell_type": "code",
   "execution_count": 43,
   "id": "b04a3ec9-4069-4bb0-956c-600d0884c087",
   "metadata": {},
   "outputs": [],
   "source": [
    "X_train,X_test,Y_train,Y_test = train_test_split(X,Y,test_size=0.3,random_state=50)"
   ]
  },
  {
   "cell_type": "code",
   "execution_count": 44,
   "id": "b225dc91-8f55-4064-8786-56bbf266805c",
   "metadata": {},
   "outputs": [
    {
     "name": "stdout",
     "output_type": "stream",
     "text": [
      "<class 'pandas.core.frame.DataFrame'>\n",
      "RangeIndex: 40000 entries, 0 to 39999\n",
      "Data columns (total 7 columns):\n",
      " #   Column      Non-Null Count  Dtype  \n",
      "---  ------      --------------  -----  \n",
      " 0   ANN_INCOME  40000 non-null  float64\n",
      " 1   AGE_PHN     40000 non-null  int64  \n",
      " 2   CURR_AGE    40000 non-null  int32  \n",
      " 3   ANN_INCOME  40000 non-null  int32  \n",
      " 4   AGE_PHN     40000 non-null  int32  \n",
      " 5   PURCHASE    40000 non-null  int32  \n",
      " 6   GENDER_M    40000 non-null  int32  \n",
      "dtypes: float64(1), int32(5), int64(1)\n",
      "memory usage: 1.4 MB\n"
     ]
    }
   ],
   "source": [
    "X.info()"
   ]
  },
  {
   "cell_type": "markdown",
   "id": "057ba258-1d3d-4b68-9485-7ad2b327db33",
   "metadata": {},
   "source": [
    "We're checking correlation to identify relationships between features and avoid\n",
    "multicollinearity, which can negatively impact model performance. It helps in\n",
    "feature selection and improving predictive accuracy."
   ]
  },
  {
   "cell_type": "code",
   "execution_count": 45,
   "id": "7b2148c7-0897-46e0-865e-4875b96d5d2d",
   "metadata": {},
   "outputs": [
    {
     "name": "stdout",
     "output_type": "stream",
     "text": [
      "2\n"
     ]
    }
   ],
   "source": [
    "print(X.columns.duplicated().sum())  # Count duplicate column names\n"
   ]
  },
  {
   "cell_type": "code",
   "execution_count": 46,
   "id": "32b8ca90-a582-4aa3-a25d-30574c67644a",
   "metadata": {},
   "outputs": [],
   "source": [
    "X = X.loc[:, ~X.columns.duplicated()]  # Remove duplicate column names\n"
   ]
  },
  {
   "cell_type": "code",
   "execution_count": 47,
   "id": "e4e056e2-bf1a-468b-87d0-220a09652a80",
   "metadata": {},
   "outputs": [
    {
     "name": "stdout",
     "output_type": "stream",
     "text": [
      "0\n"
     ]
    }
   ],
   "source": [
    "print(X.columns.duplicated().sum())  "
   ]
  },
  {
   "cell_type": "code",
   "execution_count": 48,
   "id": "648f6a92-8ef2-4b28-9766-ebec9c3f6d49",
   "metadata": {},
   "outputs": [
    {
     "name": "stdout",
     "output_type": "stream",
     "text": [
      "AGE_PHN     PURCHASE    0.321320\n",
      "ANN_INCOME  CURR_AGE    0.184890\n",
      "            PURCHASE    0.169923\n",
      "AGE_PHN     CURR_AGE    0.065735\n",
      "ANN_INCOME  AGE_PHN     0.037444\n",
      "PURCHASE    GENDER_M    0.037053\n",
      "AGE_PHN     GENDER_M   -0.010891\n",
      "CURR_AGE    PURCHASE   -0.012129\n",
      "            GENDER_M   -0.015845\n",
      "ANN_INCOME  GENDER_M   -0.026632\n",
      "dtype: float64\n"
     ]
    }
   ],
   "source": [
    "# Compute correlation matrix\n",
    "conv_corr = X.corr()\n",
    "\n",
    "# Unstack the correlation matrix\n",
    "conv_corr_unstacked = conv_corr.unstack().sort_values(kind=\"quicksort\")\n",
    "\n",
    "# Extract upper triangle of correlation matrix without diagonal\n",
    "top_corr = conv_corr.where(np.triu(np.ones(conv_corr.shape), k=1).astype(bool)).stack().sort_values(ascending=False)\n",
    "\n",
    "# Display top 10 correlations\n",
    "print(top_corr.head(10))"
   ]
  },
  {
   "cell_type": "code",
   "execution_count": 49,
   "id": "6050aeec-1312-4aa0-9969-33f5768d7cf8",
   "metadata": {},
   "outputs": [
    {
     "data": {
      "text/html": [
       "<div>\n",
       "<style scoped>\n",
       "    .dataframe tbody tr th:only-of-type {\n",
       "        vertical-align: middle;\n",
       "    }\n",
       "\n",
       "    .dataframe tbody tr th {\n",
       "        vertical-align: top;\n",
       "    }\n",
       "\n",
       "    .dataframe thead th {\n",
       "        text-align: right;\n",
       "    }\n",
       "</style>\n",
       "<table border=\"1\" class=\"dataframe\">\n",
       "  <thead>\n",
       "    <tr style=\"text-align: right;\">\n",
       "      <th></th>\n",
       "      <th>Features</th>\n",
       "      <th>VIF</th>\n",
       "    </tr>\n",
       "  </thead>\n",
       "  <tbody>\n",
       "    <tr>\n",
       "      <th>0</th>\n",
       "      <td>const</td>\n",
       "      <td>21.32</td>\n",
       "    </tr>\n",
       "  </tbody>\n",
       "</table>\n",
       "</div>"
      ],
      "text/plain": [
       "  Features    VIF\n",
       "0    const  21.32"
      ]
     },
     "execution_count": 49,
     "metadata": {},
     "output_type": "execute_result"
    }
   ],
   "source": [
    "def calculate_vif(X_train):\n",
    "    X_const = sm.add_constant(X_train)\n",
    "    vif_df = pd.DataFrame()\n",
    "    vif_df['Features'] = X_const.columns\n",
    "    vif_df['VIF'] = [variance_inflation_factor(X_const.values, i) for i in range(X_const.shape[1])]\n",
    "    vif_df['VIF'] = round(vif_df['VIF'], 2)\n",
    "    vif_df = vif_df.sort_values(by='VIF', ascending=False)\n",
    "    return vif_df[vif_df['VIF']>10]\n",
    "    \n",
    "calculate_vif(X)"
   ]
  },
  {
   "cell_type": "markdown",
   "id": "96dd9264-6538-467b-a587-2dd16ca4fd01",
   "metadata": {},
   "source": [
    "## TRAINING THE MODEL"
   ]
  },
  {
   "cell_type": "code",
   "execution_count": 50,
   "id": "78a60891-907d-4878-8c04-d505878566f1",
   "metadata": {},
   "outputs": [
    {
     "name": "stdout",
     "output_type": "stream",
     "text": [
      "                 Generalized Linear Model Regression Results                  \n",
      "==============================================================================\n",
      "Dep. Variable:               PURCHASE   No. Observations:                28000\n",
      "Model:                            GLM   Df Residuals:                    27993\n",
      "Model Family:                Binomial   Df Model:                            6\n",
      "Link Function:                  Logit   Scale:                          1.0000\n",
      "Method:                          IRLS   Log-Likelihood:            -1.4908e-09\n",
      "Date:                Mon, 03 Mar 2025   Deviance:                   2.9771e-09\n",
      "Time:                        20:15:43   Pearson chi2:                 1.49e-09\n",
      "No. Iterations:                    29   Pseudo R-squ. (CS):             0.7441\n",
      "Covariance Type:            nonrobust                                         \n",
      "==============================================================================\n",
      "                 coef    std err          z      P>|z|      [0.025      0.975]\n",
      "------------------------------------------------------------------------------\n",
      "const        -30.5661   7.61e+04     -0.000      1.000   -1.49e+05    1.49e+05\n",
      "ANN_INCOME  6.739e-14   7.71e+04   8.74e-19      1.000   -1.51e+05    1.51e+05\n",
      "AGE_PHN    -7.489e-13     41.138  -1.82e-14      1.000     -80.629      80.629\n",
      "CURR_AGE   -1.188e-12   1362.284  -8.72e-16      1.000   -2670.028    2670.028\n",
      "ANN_INCOME -6.894e-14   7.71e+04  -8.94e-19      1.000   -1.51e+05    1.51e+05\n",
      "AGE_PHN     8.015e-13     41.138   1.95e-14      1.000     -80.629      80.629\n",
      "PURCHASE      61.1321   3.42e+04      0.002      0.999    -6.7e+04    6.71e+04\n",
      "GENDER_M    3.972e-14   3.92e+04   1.01e-18      1.000   -7.69e+04    7.69e+04\n",
      "==============================================================================\n"
     ]
    }
   ],
   "source": [
    "# Add a constant (intercept term) to X_train\n",
    "X_train_const = sm.add_constant(X_train)\n",
    "# Fit the logistic regression model using GLM\n",
    "logm1 = sm.GLM(Y_train, X_train_const, family=sm.families.Binomial())\n",
    "# Fit the model and get the summary\n",
    "logm1_fit = logm1.fit()\n",
    "# Display the model summary with coefficients, p-values, etc.\n",
    "print(logm1_fit.summary())"
   ]
  },
  {
   "cell_type": "markdown",
   "id": "3bd337e8-e309-4d99-9e99-f2d51b9f9fd9",
   "metadata": {},
   "source": [
    "## FEATURE SELECTION USING RFE"
   ]
  },
  {
   "cell_type": "code",
   "execution_count": 51,
   "id": "531a5dfe-a35f-446f-af70-46d7c19c22ac",
   "metadata": {},
   "outputs": [],
   "source": [
    "# Define the logistic regression model\n",
    "lr = LogisticRegression()\n",
    "# Initialize RFE with the logistic regression model\n",
    "rfe = RFE(lr, n_features_to_select=17) # Select top 17 features (adjust as needed)\n",
    "# Fit RFE on training data\n",
    "rfe=rfe.fit(X_train, Y_train)\n",
    "# Fit RFE on testing data\n",
    "rfe=rfe.fit(X_test,Y_test)"
   ]
  },
  {
   "cell_type": "code",
   "execution_count": 52,
   "id": "188a0da4-bb1b-4c20-b5a4-ed7584fa31c8",
   "metadata": {},
   "outputs": [
    {
     "name": "stdout",
     "output_type": "stream",
     "text": [
      "Selected Features: Index(['ANN_INCOME', 'AGE_PHN', 'CURR_AGE', 'ANN_INCOME', 'AGE_PHN',\n",
      "       'PURCHASE', 'GENDER_M'],\n",
      "      dtype='object')\n"
     ]
    }
   ],
   "source": [
    "selected_features = X_train.columns[rfe.support_]\n",
    "print(\"Selected Features:\", selected_features)"
   ]
  },
  {
   "cell_type": "markdown",
   "id": "6eff0111-f9ae-4936-b59a-ee7d6a33a14c",
   "metadata": {},
   "source": [
    "## MAKING PREDICTIONS¶"
   ]
  },
  {
   "cell_type": "code",
   "execution_count": 53,
   "id": "a44327ba-5a56-4d41-ac0d-8b64d0b2c400",
   "metadata": {},
   "outputs": [
    {
     "name": "stdout",
     "output_type": "stream",
     "text": [
      "                 Generalized Linear Model Regression Results                  \n",
      "==============================================================================\n",
      "Dep. Variable:               PURCHASE   No. Observations:                28000\n",
      "Model:                            GLM   Df Residuals:                    27993\n",
      "Model Family:                Binomial   Df Model:                            6\n",
      "Link Function:                  Logit   Scale:                          1.0000\n",
      "Method:                          IRLS   Log-Likelihood:            -1.4908e-09\n",
      "Date:                Mon, 03 Mar 2025   Deviance:                   2.9771e-09\n",
      "Time:                        20:15:48   Pearson chi2:                 1.49e-09\n",
      "No. Iterations:                    29   Pseudo R-squ. (CS):             0.7441\n",
      "Covariance Type:            nonrobust                                         \n",
      "==============================================================================\n",
      "                 coef    std err          z      P>|z|      [0.025      0.975]\n",
      "------------------------------------------------------------------------------\n",
      "const        -30.5661   7.61e+04     -0.000      1.000   -1.49e+05    1.49e+05\n",
      "ANN_INCOME   1.26e-09   3.85e+04   3.27e-14      1.000   -7.56e+04    7.56e+04\n",
      "ANN_INCOME -3.998e-12   3.85e+04  -1.04e-16      1.000   -7.56e+04    7.56e+04\n",
      "AGE_PHN      7.13e-13     20.569   3.47e-14      1.000     -40.314      40.314\n",
      "AGE_PHN    -2.074e-13     20.569  -1.01e-14      1.000     -40.314      40.314\n",
      "CURR_AGE   -1.199e-12   1362.284   -8.8e-16      1.000   -2670.028    2670.028\n",
      "ANN_INCOME  -1.26e-09   3.85e+04  -3.27e-14      1.000   -7.56e+04    7.56e+04\n",
      "ANN_INCOME  3.885e-12   3.85e+04   1.01e-16      1.000   -7.56e+04    7.56e+04\n",
      "AGE_PHN    -2.248e-13     20.569  -1.09e-14      1.000     -40.314      40.314\n",
      "AGE_PHN    -2.311e-13     20.569  -1.12e-14      1.000     -40.314      40.314\n",
      "PURCHASE      61.1321   3.42e+04      0.002      0.999    -6.7e+04    6.71e+04\n",
      "GENDER_M    7.511e-14   3.92e+04   1.92e-18      1.000   -7.69e+04    7.69e+04\n",
      "==============================================================================\n"
     ]
    }
   ],
   "source": [
    "# Add a constant column to the feature set (important for intercept in GLM)\n",
    "X_train_sm = sm.add_constant(X_train[selected_features])\n",
    "# Create a logistic regression model using Generalized Linear Model (GLM)\n",
    "# We specify the family as Binomial since it's a classification problem\n",
    "logm2 = sm.GLM(Y_train, X_train_sm, family=sm.families.Binomial())\n",
    "# Fit the model to find the optimal parameters\n",
    "logm2_fit = logm2.fit()\n",
    "# Display the model summary with coefficients, p-values, etc.\n",
    "print(logm2_fit.summary())\n"
   ]
  },
  {
   "cell_type": "code",
   "execution_count": 54,
   "id": "de149c32-877d-4625-8469-dbffbe0101dc",
   "metadata": {},
   "outputs": [
    {
     "data": {
      "text/plain": [
       "10542    5.312820e-14\n",
       "23834    1.000000e+00\n",
       "32854    5.312820e-14\n",
       "37137    1.000000e+00\n",
       "2060     5.312820e-14\n",
       "34733    1.000000e+00\n",
       "36100    5.312820e-14\n",
       "5492     1.000000e+00\n",
       "11803    5.312820e-14\n",
       "28564    1.000000e+00\n",
       "dtype: float64"
      ]
     },
     "execution_count": 54,
     "metadata": {},
     "output_type": "execute_result"
    }
   ],
   "source": [
    "# Getting the predicted values on the train set\n",
    "y_train_pred = logm2_fit.predict(X_train_sm)\n",
    "y_train_pred[:10]"
   ]
  },
  {
   "cell_type": "code",
   "execution_count": 55,
   "id": "b0b66e91-35f2-4cbe-91e5-0c1bfdf21325",
   "metadata": {},
   "outputs": [
    {
     "data": {
      "text/html": [
       "<div>\n",
       "<style scoped>\n",
       "    .dataframe tbody tr th:only-of-type {\n",
       "        vertical-align: middle;\n",
       "    }\n",
       "\n",
       "    .dataframe tbody tr th {\n",
       "        vertical-align: top;\n",
       "    }\n",
       "\n",
       "    .dataframe thead th {\n",
       "        text-align: right;\n",
       "    }\n",
       "</style>\n",
       "<table border=\"1\" class=\"dataframe\">\n",
       "  <thead>\n",
       "    <tr style=\"text-align: right;\">\n",
       "      <th></th>\n",
       "      <th>Convert</th>\n",
       "      <th>Convert_Prob</th>\n",
       "      <th>Pros_ID</th>\n",
       "    </tr>\n",
       "  </thead>\n",
       "  <tbody>\n",
       "    <tr>\n",
       "      <th>28700</th>\n",
       "      <td>1</td>\n",
       "      <td>1.000000e+00</td>\n",
       "      <td>28700</td>\n",
       "    </tr>\n",
       "    <tr>\n",
       "      <th>38053</th>\n",
       "      <td>1</td>\n",
       "      <td>1.000000e+00</td>\n",
       "      <td>38053</td>\n",
       "    </tr>\n",
       "    <tr>\n",
       "      <th>29612</th>\n",
       "      <td>0</td>\n",
       "      <td>5.312820e-14</td>\n",
       "      <td>29612</td>\n",
       "    </tr>\n",
       "    <tr>\n",
       "      <th>19124</th>\n",
       "      <td>1</td>\n",
       "      <td>1.000000e+00</td>\n",
       "      <td>19124</td>\n",
       "    </tr>\n",
       "    <tr>\n",
       "      <th>35201</th>\n",
       "      <td>1</td>\n",
       "      <td>1.000000e+00</td>\n",
       "      <td>35201</td>\n",
       "    </tr>\n",
       "  </tbody>\n",
       "</table>\n",
       "</div>"
      ],
      "text/plain": [
       "       Convert  Convert_Prob  Pros_ID\n",
       "28700        1  1.000000e+00    28700\n",
       "38053        1  1.000000e+00    38053\n",
       "29612        0  5.312820e-14    29612\n",
       "19124        1  1.000000e+00    19124\n",
       "35201        1  1.000000e+00    35201"
      ]
     },
     "execution_count": 55,
     "metadata": {},
     "output_type": "execute_result"
    }
   ],
   "source": [
    "# Create a DataFrame to store the actual values and predicted probabilities\n",
    "Y_train_pred_final = pd.DataFrame({\n",
    "'Convert': Y_train.values, # Actual target values (1 = Converted, 0 = Not Converted)\n",
    "'Convert_Prob': y_train_pred # Predicted probabilities from the model\n",
    "})\n",
    "# Add the Prospect ID (index of y_train) for tracking each lead\n",
    "Y_train_pred_final['Pros_ID'] = Y_train.index\n",
    "# Display some rows of the resulting DataFrame\n",
    "Y_train_pred_final[10:15]"
   ]
  },
  {
   "cell_type": "code",
   "execution_count": 56,
   "id": "6a701b4f-0415-4e98-8688-35e2b1706da2",
   "metadata": {},
   "outputs": [
    {
     "data": {
      "text/html": [
       "<div>\n",
       "<style scoped>\n",
       "    .dataframe tbody tr th:only-of-type {\n",
       "        vertical-align: middle;\n",
       "    }\n",
       "\n",
       "    .dataframe tbody tr th {\n",
       "        vertical-align: top;\n",
       "    }\n",
       "\n",
       "    .dataframe thead th {\n",
       "        text-align: right;\n",
       "    }\n",
       "</style>\n",
       "<table border=\"1\" class=\"dataframe\">\n",
       "  <thead>\n",
       "    <tr style=\"text-align: right;\">\n",
       "      <th></th>\n",
       "      <th>Convert</th>\n",
       "      <th>Convert_Prob</th>\n",
       "      <th>Pros_ID</th>\n",
       "      <th>predicted</th>\n",
       "    </tr>\n",
       "  </thead>\n",
       "  <tbody>\n",
       "    <tr>\n",
       "      <th>10</th>\n",
       "      <td>0</td>\n",
       "      <td>5.312820e-14</td>\n",
       "      <td>10</td>\n",
       "      <td>0</td>\n",
       "    </tr>\n",
       "    <tr>\n",
       "      <th>27315</th>\n",
       "      <td>1</td>\n",
       "      <td>1.000000e+00</td>\n",
       "      <td>27315</td>\n",
       "      <td>1</td>\n",
       "    </tr>\n",
       "    <tr>\n",
       "      <th>4684</th>\n",
       "      <td>0</td>\n",
       "      <td>5.312820e-14</td>\n",
       "      <td>4684</td>\n",
       "      <td>0</td>\n",
       "    </tr>\n",
       "    <tr>\n",
       "      <th>26984</th>\n",
       "      <td>0</td>\n",
       "      <td>5.312820e-14</td>\n",
       "      <td>26984</td>\n",
       "      <td>0</td>\n",
       "    </tr>\n",
       "    <tr>\n",
       "      <th>15421</th>\n",
       "      <td>0</td>\n",
       "      <td>5.312820e-14</td>\n",
       "      <td>15421</td>\n",
       "      <td>0</td>\n",
       "    </tr>\n",
       "    <tr>\n",
       "      <th>...</th>\n",
       "      <td>...</td>\n",
       "      <td>...</td>\n",
       "      <td>...</td>\n",
       "      <td>...</td>\n",
       "    </tr>\n",
       "    <tr>\n",
       "      <th>21034</th>\n",
       "      <td>0</td>\n",
       "      <td>5.312820e-14</td>\n",
       "      <td>21034</td>\n",
       "      <td>0</td>\n",
       "    </tr>\n",
       "    <tr>\n",
       "      <th>22224</th>\n",
       "      <td>1</td>\n",
       "      <td>1.000000e+00</td>\n",
       "      <td>22224</td>\n",
       "      <td>1</td>\n",
       "    </tr>\n",
       "    <tr>\n",
       "      <th>15113</th>\n",
       "      <td>1</td>\n",
       "      <td>1.000000e+00</td>\n",
       "      <td>15113</td>\n",
       "      <td>1</td>\n",
       "    </tr>\n",
       "    <tr>\n",
       "      <th>20557</th>\n",
       "      <td>0</td>\n",
       "      <td>5.312820e-14</td>\n",
       "      <td>20557</td>\n",
       "      <td>0</td>\n",
       "    </tr>\n",
       "    <tr>\n",
       "      <th>15</th>\n",
       "      <td>1</td>\n",
       "      <td>1.000000e+00</td>\n",
       "      <td>15</td>\n",
       "      <td>1</td>\n",
       "    </tr>\n",
       "  </tbody>\n",
       "</table>\n",
       "<p>2324 rows × 4 columns</p>\n",
       "</div>"
      ],
      "text/plain": [
       "       Convert  Convert_Prob  Pros_ID  predicted\n",
       "10           0  5.312820e-14       10          0\n",
       "27315        1  1.000000e+00    27315          1\n",
       "4684         0  5.312820e-14     4684          0\n",
       "26984        0  5.312820e-14    26984          0\n",
       "15421        0  5.312820e-14    15421          0\n",
       "...        ...           ...      ...        ...\n",
       "21034        0  5.312820e-14    21034          0\n",
       "22224        1  1.000000e+00    22224          1\n",
       "15113        1  1.000000e+00    15113          1\n",
       "20557        0  5.312820e-14    20557          0\n",
       "15           1  1.000000e+00       15          1\n",
       "\n",
       "[2324 rows x 4 columns]"
      ]
     },
     "execution_count": 56,
     "metadata": {},
     "output_type": "execute_result"
    }
   ],
   "source": [
    "# Creating new column 'predicted' with 1 if Convert_Prob > 0.5 else 0\n",
    "Y_train_pred_final['predicted'] = Y_train_pred_final.Convert_Prob.map(lambda x: 1 if x > 0.5 else 0)\n",
    "# Let's see\n",
    "Y_train_pred_final.loc[10:15]"
   ]
  },
  {
   "cell_type": "code",
   "execution_count": 57,
   "id": "bc6e9c3e-7901-46e7-b147-d26b69c18bbc",
   "metadata": {},
   "outputs": [
    {
     "data": {
      "text/plain": [
       "Text(0.5, 1.0, 'Distribution of Predicted Values')"
      ]
     },
     "execution_count": 57,
     "metadata": {},
     "output_type": "execute_result"
    },
    {
     "data": {
      "image/png": "[encoded data removed]",
      "text/plain": [
       "<Figure size 600x400 with 1 Axes>"
      ]
     },
     "metadata": {},
     "output_type": "display_data"
    }
   ],
   "source": [
    "# Count plot of predicted values\n",
    "plt.figure(figsize=(6, 4))\n",
    "sns.countplot(x=Y_train_pred_final['predicted'], palette='Blues')\n",
    "\n",
    "# Labels and title\n",
    "plt.xlabel(\"Predicted Value\")\n",
    "plt.ylabel(\"Count\")\n",
    "plt.title(\"Distribution of Predicted Values\")"
   ]
  },
  {
   "cell_type": "markdown",
   "id": "d4a3f64a-0d3c-4358-a254-f3f63777ac2d",
   "metadata": {},
   "source": [
    "## cluatering analysis"
   ]
  },
  {
   "cell_type": "code",
   "execution_count": 58,
   "id": "87dc6673-7607-4a45-b570-0c294a9ae701",
   "metadata": {},
   "outputs": [],
   "source": [
    "# Drop ID column\n",
    "df_cleaned = df.drop(columns=['ID'])\n"
   ]
  },
  {
   "cell_type": "code",
   "execution_count": 59,
   "id": "267ecbfc-2a2a-4245-9158-8dd90235a639",
   "metadata": {},
   "outputs": [],
   "source": [
    "# Encode categorical 'GENDER' column\n",
    "le = LabelEncoder()\n",
    "df_cleaned['GENDER'] = le.fit_transform(df_cleaned['GENDER'])"
   ]
  },
  {
   "cell_type": "code",
   "execution_count": 60,
   "id": "b7277840-618e-4f96-97d8-085ca30fa040",
   "metadata": {},
   "outputs": [],
   "source": [
    "\n",
    "\n",
    "# Standardize numerical columns\n",
    "scaler = StandardScaler()\n",
    "df_scaled = pd.DataFrame(scaler.fit_transform(df_cleaned), columns=df_cleaned.columns)\n"
   ]
  },
  {
   "cell_type": "code",
   "execution_count": 61,
   "id": "7923ddbc-130b-483c-ab22-4773486eb900",
   "metadata": {},
   "outputs": [],
   "source": [
    "# Apply K-Means clustering\n",
    "optimal_k = 4  # Change based on Elbow Method analysis\n",
    "kmeans = KMeans(n_clusters=optimal_k, random_state=42, n_init=10)\n",
    "kmeans_labels = kmeans.fit_predict(df_scaled)\n"
   ]
  },
  {
   "cell_type": "code",
   "execution_count": 62,
   "id": "a68af972-e9ad-4c00-96f4-4a5c49b43d20",
   "metadata": {
    "scrolled": true
   },
   "outputs": [
    {
     "name": "stdout",
     "output_type": "stream",
     "text": [
      "Silhouette Score for K-Means: 0.26175343838326187\n"
     ]
    }
   ],
   "source": [
    "## Evaluate K-Means clustering\n",
    "silhouette_kmeans = silhouette_score(df_scaled, kmeans_labels)\n",
    "print(f\"Silhouette Score for K-Means: {silhouette_kmeans}\")\n",
    "\n",
    "### Silhouette Score for K-Means: 0.2618 (indicating moderate cluster separation).\n"
   ]
  },
  {
   "cell_type": "code",
   "execution_count": 64,
   "id": "6816fc32-59f8-43f1-b2d1-78edfdf1c63f",
   "metadata": {},
   "outputs": [
    {
     "data": {
      "image/png": "[encoded data removed]",
      "text/plain": [
       "<Figure size 1200x500 with 1 Axes>"
      ]
     },
     "metadata": {},
     "output_type": "display_data"
    }
   ],
   "source": [
    "# Visualization\n",
    "plt.figure(figsize=(12, 5))\n",
    "plt.subplot(1, 2, 1)\n",
    "plt.scatter(df_scaled.iloc[:, 0], df_scaled.iloc[:, 1], c=kmeans_labels, cmap='viridis', alpha=0.5)\n",
    "plt.title(\"K-Means Clustering\")\n",
    "\n",
    "plt.show()\n",
    "\n"
   ]
  },
  {
   "cell_type": "markdown",
   "id": "6104896a-9d71-4d64-9831-0c54064722d7",
   "metadata": {},
   "source": [
    "### INDIA DATA"
   ]
  },
  {
   "cell_type": "code",
   "execution_count": 65,
   "id": "7f8e3983-5a03-4a4b-a5cc-bb600084e82d",
   "metadata": {},
   "outputs": [
    {
     "name": "stdout",
     "output_type": "stream",
     "text": [
      "Excel file converted to CSV successfully!\n"
     ]
    }
   ],
   "source": [
    "# Define file paths\n",
    "excel_file = r\"C:\\Users\\puja0\\Downloads\\Datasets\\IN_Mobiles+-+Data.xlsx\"\n",
    "csv_file = r\"C:\\Users\\puja0\\Downloads\\Datasets\\IN_Mobiles_Data.csv\"\n",
    "\n",
    "# Read the Excel file\n",
    "IN = pd.read_excel(excel_file)\n",
    "\n",
    "# Save as CSV\n",
    "df.to_csv(csv_file, index=False)\n",
    "\n",
    "print(\"Excel file converted to CSV successfully!\")"
   ]
  },
  {
   "cell_type": "code",
   "execution_count": 66,
   "id": "6f57236a-f2d3-4640-a1b3-1bb6c3074cee",
   "metadata": {},
   "outputs": [
    {
     "data": {
      "text/html": [
       "<div>\n",
       "<style scoped>\n",
       "    .dataframe tbody tr th:only-of-type {\n",
       "        vertical-align: middle;\n",
       "    }\n",
       "\n",
       "    .dataframe tbody tr th {\n",
       "        vertical-align: top;\n",
       "    }\n",
       "\n",
       "    .dataframe thead th {\n",
       "        text-align: right;\n",
       "    }\n",
       "</style>\n",
       "<table border=\"1\" class=\"dataframe\">\n",
       "  <thead>\n",
       "    <tr style=\"text-align: right;\">\n",
       "      <th></th>\n",
       "      <th>ID</th>\n",
       "      <th>CURR_AGE</th>\n",
       "      <th>GENDER</th>\n",
       "      <th>ANN_INCOME</th>\n",
       "      <th>DT_OLD_PURCHASE</th>\n",
       "    </tr>\n",
       "  </thead>\n",
       "  <tbody>\n",
       "    <tr>\n",
       "      <th>0</th>\n",
       "      <td>20710B05XL</td>\n",
       "      <td>54</td>\n",
       "      <td>M</td>\n",
       "      <td>1425390</td>\n",
       "      <td>2018-04-20</td>\n",
       "    </tr>\n",
       "    <tr>\n",
       "      <th>1</th>\n",
       "      <td>89602T51HX</td>\n",
       "      <td>47</td>\n",
       "      <td>M</td>\n",
       "      <td>1678954</td>\n",
       "      <td>2018-06-08</td>\n",
       "    </tr>\n",
       "    <tr>\n",
       "      <th>2</th>\n",
       "      <td>70190Z52IP</td>\n",
       "      <td>60</td>\n",
       "      <td>M</td>\n",
       "      <td>931624</td>\n",
       "      <td>2017-07-31</td>\n",
       "    </tr>\n",
       "    <tr>\n",
       "      <th>3</th>\n",
       "      <td>25623V15MU</td>\n",
       "      <td>55</td>\n",
       "      <td>F</td>\n",
       "      <td>1106320</td>\n",
       "      <td>2017-07-31</td>\n",
       "    </tr>\n",
       "    <tr>\n",
       "      <th>4</th>\n",
       "      <td>36230I68CE</td>\n",
       "      <td>32</td>\n",
       "      <td>F</td>\n",
       "      <td>748465</td>\n",
       "      <td>2019-01-27</td>\n",
       "    </tr>\n",
       "  </tbody>\n",
       "</table>\n",
       "</div>"
      ],
      "text/plain": [
       "           ID  CURR_AGE GENDER  ANN_INCOME DT_OLD_PURCHASE\n",
       "0  20710B05XL        54      M     1425390      2018-04-20\n",
       "1  89602T51HX        47      M     1678954      2018-06-08\n",
       "2  70190Z52IP        60      M      931624      2017-07-31\n",
       "3  25623V15MU        55      F     1106320      2017-07-31\n",
       "4  36230I68CE        32      F      748465      2019-01-27"
      ]
     },
     "execution_count": 66,
     "metadata": {},
     "output_type": "execute_result"
    }
   ],
   "source": [
    "IN.head()"
   ]
  },
  {
   "cell_type": "code",
   "execution_count": 67,
   "id": "4b4578b3-024c-4a41-9336-8ad5dfa2fe12",
   "metadata": {},
   "outputs": [
    {
     "data": {
      "text/plain": [
       "(70000, 5)"
      ]
     },
     "execution_count": 67,
     "metadata": {},
     "output_type": "execute_result"
    }
   ],
   "source": [
    "IN.shape"
   ]
  },
  {
   "cell_type": "code",
   "execution_count": 68,
   "id": "30cb50b5-7554-42b6-b8cb-6de21ebb7d19",
   "metadata": {},
   "outputs": [
    {
     "name": "stdout",
     "output_type": "stream",
     "text": [
      "<class 'pandas.core.frame.DataFrame'>\n",
      "RangeIndex: 70000 entries, 0 to 69999\n",
      "Data columns (total 5 columns):\n",
      " #   Column           Non-Null Count  Dtype         \n",
      "---  ------           --------------  -----         \n",
      " 0   ID               70000 non-null  object        \n",
      " 1   CURR_AGE         70000 non-null  int64         \n",
      " 2   GENDER           70000 non-null  object        \n",
      " 3   ANN_INCOME       70000 non-null  int64         \n",
      " 4   DT_OLD_PURCHASE  70000 non-null  datetime64[ns]\n",
      "dtypes: datetime64[ns](1), int64(2), object(2)\n",
      "memory usage: 2.7+ MB\n"
     ]
    }
   ],
   "source": [
    "IN.info()"
   ]
  },
  {
   "cell_type": "code",
   "execution_count": 69,
   "id": "edc3e3db-68e7-4673-935f-3f29c1b63555",
   "metadata": {},
   "outputs": [
    {
     "data": {
      "text/plain": [
       "ID                 0\n",
       "CURR_AGE           0\n",
       "GENDER             0\n",
       "ANN_INCOME         0\n",
       "DT_OLD_PURCHASE    0\n",
       "dtype: int64"
      ]
     },
     "execution_count": 69,
     "metadata": {},
     "output_type": "execute_result"
    }
   ],
   "source": [
    "IN.isnull().sum()"
   ]
  },
  {
   "cell_type": "code",
   "execution_count": 70,
   "id": "23a0d7e8-cee0-4658-80ed-d26c23d7ec12",
   "metadata": {},
   "outputs": [
    {
     "data": {
      "text/plain": [
       "0"
      ]
     },
     "execution_count": 70,
     "metadata": {},
     "output_type": "execute_result"
    }
   ],
   "source": [
    "IN.duplicated().sum()\n"
   ]
  },
  {
   "cell_type": "markdown",
   "id": "0c039583-5ccc-4ec2-b761-df0f79c2109a",
   "metadata": {},
   "source": [
    "### EDA of india data"
   ]
  },
  {
   "cell_type": "code",
   "execution_count": 123,
   "id": "ac875087-3263-4d14-94d6-0fcaafb72cb2",
   "metadata": {},
   "outputs": [
    {
     "data": {
      "text/plain": [
       "<Axes: xlabel='CURR_AGE', ylabel='Count'>"
      ]
     },
     "execution_count": 123,
     "metadata": {},
     "output_type": "execute_result"
    },
    {
     "data": {
      "image/png": "[encoded data removed]",
      "text/plain": [
       "<Figure size 640x480 with 1 Axes>"
      ]
     },
     "metadata": {},
     "output_type": "display_data"
    }
   ],
   "source": [
    "sns.histplot(IN['CURR_AGE'], bins=20, kde=True, color='Green')"
   ]
  },
  {
   "cell_type": "code",
   "execution_count": 101,
   "id": "ad4bb313-cfc3-4df4-9bb7-d1fd3bc69a24",
   "metadata": {},
   "outputs": [
    {
     "data": {
      "image/png": "[encoded data removed]",
      "text/plain": [
       "<Figure size 1500x800 with 4 Axes>"
      ]
     },
     "metadata": {},
     "output_type": "display_data"
    }
   ],
   "source": [
    "# Comparative EDA between India and China Mobiles Datasets (without Phone Age)\n",
    "def compare_eda(df, IN):\n",
    "    fig, axes = plt.subplots(2, 2, figsize=(15, 8))\n",
    "    fig.suptitle('Comparative EDA: India vs China Mobiles Datasets', fontsize=18)\n",
    "\n",
    "    # Customer Age Distribution\n",
    "    sns.histplot(IN['CURR_AGE'], kde=True, ax=axes[0, 0], color='skyblue')\n",
    "    axes[0, 0].set_title('India - Customer Age')\n",
    "    sns.histplot(df['CURR_AGE'], kde=True, ax=axes[0, 1], color='salmon')\n",
    "    axes[0, 1].set_title('China - Customer Age')\n",
    "\n",
    "    # Annual Income Distribution\n",
    "    sns.histplot(IN['ANN_INCOME'], kde=True, ax=axes[1, 0], color='skyblue')\n",
    "    axes[1, 0].set_title('India - Annual Income')\n",
    "    sns.histplot(df['ANN_INCOME'], kde=True, ax=axes[1, 1], color='salmon')\n",
    "    axes[1, 1].set_title('China - Annual Income')\n",
    "\n",
    "    plt.tight_layout()\n",
    "    plt.show()\n",
    "\n",
    "# Run the EDA comparison (make sure your datasets are loaded as df and IN)\n",
    "compare_eda(df, IN)\n",
    "\n"
   ]
  },
  {
   "cell_type": "code",
   "execution_count": 110,
   "id": "9f121822-644b-4b46-aa1b-5eae60e32e00",
   "metadata": {},
   "outputs": [
    {
     "data": {
      "image/png": "[encoded data removed]",
      "text/plain": [
       "<Figure size 800x600 with 2 Axes>"
      ]
     },
     "metadata": {},
     "output_type": "display_data"
    }
   ],
   "source": [
    "# Correlation\n",
    "df_corr = IN.select_dtypes(include='number').corr()\n",
    "\n",
    "# Plot\n",
    "plt.figure(figsize=(8, 6))\n",
    "mask = np.triu(np.ones_like(df_corr, dtype=bool))\n",
    "sns.heatmap(df_corr, mask=mask, annot=True, cmap='coolwarm')\n",
    "plt.show()"
   ]
  },
  {
   "cell_type": "code",
   "execution_count": 129,
   "id": "f4d08f87-a441-458d-8f99-99e27c625aa5",
   "metadata": {},
   "outputs": [],
   "source": [
    "in_df_encoded = pd.get_dummies(IN,columns=['GENDER'])"
   ]
  },
  {
   "cell_type": "code",
   "execution_count": 130,
   "id": "7023938a-dedb-45f5-968b-8cd86c1603fc",
   "metadata": {},
   "outputs": [
    {
     "data": {
      "text/html": [
       "<div>\n",
       "<style scoped>\n",
       "    .dataframe tbody tr th:only-of-type {\n",
       "        vertical-align: middle;\n",
       "    }\n",
       "\n",
       "    .dataframe tbody tr th {\n",
       "        vertical-align: top;\n",
       "    }\n",
       "\n",
       "    .dataframe thead th {\n",
       "        text-align: right;\n",
       "    }\n",
       "</style>\n",
       "<table border=\"1\" class=\"dataframe\">\n",
       "  <thead>\n",
       "    <tr style=\"text-align: right;\">\n",
       "      <th></th>\n",
       "      <th>ID</th>\n",
       "      <th>CURR_AGE</th>\n",
       "      <th>ANN_INCOME</th>\n",
       "      <th>DT_OLD_PURCHASE</th>\n",
       "      <th>GENDER_F</th>\n",
       "      <th>GENDER_M</th>\n",
       "    </tr>\n",
       "  </thead>\n",
       "  <tbody>\n",
       "    <tr>\n",
       "      <th>0</th>\n",
       "      <td>20710B05XL</td>\n",
       "      <td>54</td>\n",
       "      <td>1425390</td>\n",
       "      <td>2018-04-20</td>\n",
       "      <td>False</td>\n",
       "      <td>True</td>\n",
       "    </tr>\n",
       "    <tr>\n",
       "      <th>1</th>\n",
       "      <td>89602T51HX</td>\n",
       "      <td>47</td>\n",
       "      <td>1678954</td>\n",
       "      <td>2018-06-08</td>\n",
       "      <td>False</td>\n",
       "      <td>True</td>\n",
       "    </tr>\n",
       "    <tr>\n",
       "      <th>2</th>\n",
       "      <td>70190Z52IP</td>\n",
       "      <td>60</td>\n",
       "      <td>931624</td>\n",
       "      <td>2017-07-31</td>\n",
       "      <td>False</td>\n",
       "      <td>True</td>\n",
       "    </tr>\n",
       "    <tr>\n",
       "      <th>3</th>\n",
       "      <td>25623V15MU</td>\n",
       "      <td>55</td>\n",
       "      <td>1106320</td>\n",
       "      <td>2017-07-31</td>\n",
       "      <td>True</td>\n",
       "      <td>False</td>\n",
       "    </tr>\n",
       "    <tr>\n",
       "      <th>4</th>\n",
       "      <td>36230I68CE</td>\n",
       "      <td>32</td>\n",
       "      <td>748465</td>\n",
       "      <td>2019-01-27</td>\n",
       "      <td>True</td>\n",
       "      <td>False</td>\n",
       "    </tr>\n",
       "    <tr>\n",
       "      <th>...</th>\n",
       "      <td>...</td>\n",
       "      <td>...</td>\n",
       "      <td>...</td>\n",
       "      <td>...</td>\n",
       "      <td>...</td>\n",
       "      <td>...</td>\n",
       "    </tr>\n",
       "    <tr>\n",
       "      <th>69995</th>\n",
       "      <td>35280V26PS</td>\n",
       "      <td>49</td>\n",
       "      <td>861770</td>\n",
       "      <td>2018-04-08</td>\n",
       "      <td>True</td>\n",
       "      <td>False</td>\n",
       "    </tr>\n",
       "    <tr>\n",
       "      <th>69996</th>\n",
       "      <td>79863N01VR</td>\n",
       "      <td>59</td>\n",
       "      <td>888976</td>\n",
       "      <td>2018-05-17</td>\n",
       "      <td>False</td>\n",
       "      <td>True</td>\n",
       "    </tr>\n",
       "    <tr>\n",
       "      <th>69997</th>\n",
       "      <td>94236O99QE</td>\n",
       "      <td>33</td>\n",
       "      <td>699676</td>\n",
       "      <td>2019-04-21</td>\n",
       "      <td>False</td>\n",
       "      <td>True</td>\n",
       "    </tr>\n",
       "    <tr>\n",
       "      <th>69998</th>\n",
       "      <td>23696V12DP</td>\n",
       "      <td>41</td>\n",
       "      <td>1881922</td>\n",
       "      <td>2018-07-14</td>\n",
       "      <td>False</td>\n",
       "      <td>True</td>\n",
       "    </tr>\n",
       "    <tr>\n",
       "      <th>69999</th>\n",
       "      <td>36285R14DU</td>\n",
       "      <td>53</td>\n",
       "      <td>1897605</td>\n",
       "      <td>2018-05-13</td>\n",
       "      <td>False</td>\n",
       "      <td>True</td>\n",
       "    </tr>\n",
       "  </tbody>\n",
       "</table>\n",
       "<p>70000 rows × 6 columns</p>\n",
       "</div>"
      ],
      "text/plain": [
       "               ID  CURR_AGE  ANN_INCOME DT_OLD_PURCHASE  GENDER_F  GENDER_M\n",
       "0      20710B05XL        54     1425390      2018-04-20     False      True\n",
       "1      89602T51HX        47     1678954      2018-06-08     False      True\n",
       "2      70190Z52IP        60      931624      2017-07-31     False      True\n",
       "3      25623V15MU        55     1106320      2017-07-31      True     False\n",
       "4      36230I68CE        32      748465      2019-01-27      True     False\n",
       "...           ...       ...         ...             ...       ...       ...\n",
       "69995  35280V26PS        49      861770      2018-04-08      True     False\n",
       "69996  79863N01VR        59      888976      2018-05-17     False      True\n",
       "69997  94236O99QE        33      699676      2019-04-21     False      True\n",
       "69998  23696V12DP        41     1881922      2018-07-14     False      True\n",
       "69999  36285R14DU        53     1897605      2018-05-13     False      True\n",
       "\n",
       "[70000 rows x 6 columns]"
      ]
     },
     "execution_count": 130,
     "metadata": {},
     "output_type": "execute_result"
    }
   ],
   "source": [
    "in_df_encoded"
   ]
  },
  {
   "cell_type": "code",
   "execution_count": 131,
   "id": "cc2719f4-ce4f-47e9-8f95-d4a315e81a9f",
   "metadata": {},
   "outputs": [],
   "source": [
    "in_df_encoded.drop(['GENDER_M'],axis=1,inplace=True)"
   ]
  },
  {
   "cell_type": "code",
   "execution_count": 132,
   "id": "623c8a39-208a-4a1d-a0d4-ae94bbf10ef3",
   "metadata": {},
   "outputs": [
    {
     "data": {
      "text/html": [
       "<div>\n",
       "<style scoped>\n",
       "    .dataframe tbody tr th:only-of-type {\n",
       "        vertical-align: middle;\n",
       "    }\n",
       "\n",
       "    .dataframe tbody tr th {\n",
       "        vertical-align: top;\n",
       "    }\n",
       "\n",
       "    .dataframe thead th {\n",
       "        text-align: right;\n",
       "    }\n",
       "</style>\n",
       "<table border=\"1\" class=\"dataframe\">\n",
       "  <thead>\n",
       "    <tr style=\"text-align: right;\">\n",
       "      <th></th>\n",
       "      <th>ID</th>\n",
       "      <th>CURR_AGE</th>\n",
       "      <th>ANN_INCOME</th>\n",
       "      <th>DT_OLD_PURCHASE</th>\n",
       "      <th>GENDER_F</th>\n",
       "    </tr>\n",
       "  </thead>\n",
       "  <tbody>\n",
       "    <tr>\n",
       "      <th>0</th>\n",
       "      <td>20710B05XL</td>\n",
       "      <td>54</td>\n",
       "      <td>1425390</td>\n",
       "      <td>2018-04-20</td>\n",
       "      <td>False</td>\n",
       "    </tr>\n",
       "    <tr>\n",
       "      <th>1</th>\n",
       "      <td>89602T51HX</td>\n",
       "      <td>47</td>\n",
       "      <td>1678954</td>\n",
       "      <td>2018-06-08</td>\n",
       "      <td>False</td>\n",
       "    </tr>\n",
       "    <tr>\n",
       "      <th>2</th>\n",
       "      <td>70190Z52IP</td>\n",
       "      <td>60</td>\n",
       "      <td>931624</td>\n",
       "      <td>2017-07-31</td>\n",
       "      <td>False</td>\n",
       "    </tr>\n",
       "    <tr>\n",
       "      <th>3</th>\n",
       "      <td>25623V15MU</td>\n",
       "      <td>55</td>\n",
       "      <td>1106320</td>\n",
       "      <td>2017-07-31</td>\n",
       "      <td>True</td>\n",
       "    </tr>\n",
       "    <tr>\n",
       "      <th>4</th>\n",
       "      <td>36230I68CE</td>\n",
       "      <td>32</td>\n",
       "      <td>748465</td>\n",
       "      <td>2019-01-27</td>\n",
       "      <td>True</td>\n",
       "    </tr>\n",
       "    <tr>\n",
       "      <th>...</th>\n",
       "      <td>...</td>\n",
       "      <td>...</td>\n",
       "      <td>...</td>\n",
       "      <td>...</td>\n",
       "      <td>...</td>\n",
       "    </tr>\n",
       "    <tr>\n",
       "      <th>69995</th>\n",
       "      <td>35280V26PS</td>\n",
       "      <td>49</td>\n",
       "      <td>861770</td>\n",
       "      <td>2018-04-08</td>\n",
       "      <td>True</td>\n",
       "    </tr>\n",
       "    <tr>\n",
       "      <th>69996</th>\n",
       "      <td>79863N01VR</td>\n",
       "      <td>59</td>\n",
       "      <td>888976</td>\n",
       "      <td>2018-05-17</td>\n",
       "      <td>False</td>\n",
       "    </tr>\n",
       "    <tr>\n",
       "      <th>69997</th>\n",
       "      <td>94236O99QE</td>\n",
       "      <td>33</td>\n",
       "      <td>699676</td>\n",
       "      <td>2019-04-21</td>\n",
       "      <td>False</td>\n",
       "    </tr>\n",
       "    <tr>\n",
       "      <th>69998</th>\n",
       "      <td>23696V12DP</td>\n",
       "      <td>41</td>\n",
       "      <td>1881922</td>\n",
       "      <td>2018-07-14</td>\n",
       "      <td>False</td>\n",
       "    </tr>\n",
       "    <tr>\n",
       "      <th>69999</th>\n",
       "      <td>36285R14DU</td>\n",
       "      <td>53</td>\n",
       "      <td>1897605</td>\n",
       "      <td>2018-05-13</td>\n",
       "      <td>False</td>\n",
       "    </tr>\n",
       "  </tbody>\n",
       "</table>\n",
       "<p>70000 rows × 5 columns</p>\n",
       "</div>"
      ],
      "text/plain": [
       "               ID  CURR_AGE  ANN_INCOME DT_OLD_PURCHASE  GENDER_F\n",
       "0      20710B05XL        54     1425390      2018-04-20     False\n",
       "1      89602T51HX        47     1678954      2018-06-08     False\n",
       "2      70190Z52IP        60      931624      2017-07-31     False\n",
       "3      25623V15MU        55     1106320      2017-07-31      True\n",
       "4      36230I68CE        32      748465      2019-01-27      True\n",
       "...           ...       ...         ...             ...       ...\n",
       "69995  35280V26PS        49      861770      2018-04-08      True\n",
       "69996  79863N01VR        59      888976      2018-05-17     False\n",
       "69997  94236O99QE        33      699676      2019-04-21     False\n",
       "69998  23696V12DP        41     1881922      2018-07-14     False\n",
       "69999  36285R14DU        53     1897605      2018-05-13     False\n",
       "\n",
       "[70000 rows x 5 columns]"
      ]
     },
     "execution_count": 132,
     "metadata": {},
     "output_type": "execute_result"
    }
   ],
   "source": [
    "in_df_encoded"
   ]
  },
  {
   "cell_type": "code",
   "execution_count": 133,
   "id": "cd2a6344-2b14-43e9-b6ad-ac325c1a5c51",
   "metadata": {},
   "outputs": [],
   "source": [
    "in_df_encoded['GENDER_F']=in_df_encoded['GENDER_F'].replace({True:1,False:0})"
   ]
  },
  {
   "cell_type": "code",
   "execution_count": 134,
   "id": "b094f123-862b-4e5e-933a-656a55a1fa97",
   "metadata": {},
   "outputs": [
    {
     "data": {
      "text/html": [
       "<div>\n",
       "<style scoped>\n",
       "    .dataframe tbody tr th:only-of-type {\n",
       "        vertical-align: middle;\n",
       "    }\n",
       "\n",
       "    .dataframe tbody tr th {\n",
       "        vertical-align: top;\n",
       "    }\n",
       "\n",
       "    .dataframe thead th {\n",
       "        text-align: right;\n",
       "    }\n",
       "</style>\n",
       "<table border=\"1\" class=\"dataframe\">\n",
       "  <thead>\n",
       "    <tr style=\"text-align: right;\">\n",
       "      <th></th>\n",
       "      <th>ID</th>\n",
       "      <th>CURR_AGE</th>\n",
       "      <th>ANN_INCOME</th>\n",
       "      <th>DT_OLD_PURCHASE</th>\n",
       "      <th>GENDER_F</th>\n",
       "    </tr>\n",
       "  </thead>\n",
       "  <tbody>\n",
       "    <tr>\n",
       "      <th>0</th>\n",
       "      <td>20710B05XL</td>\n",
       "      <td>54</td>\n",
       "      <td>1425390</td>\n",
       "      <td>2018-04-20</td>\n",
       "      <td>0</td>\n",
       "    </tr>\n",
       "    <tr>\n",
       "      <th>1</th>\n",
       "      <td>89602T51HX</td>\n",
       "      <td>47</td>\n",
       "      <td>1678954</td>\n",
       "      <td>2018-06-08</td>\n",
       "      <td>0</td>\n",
       "    </tr>\n",
       "    <tr>\n",
       "      <th>2</th>\n",
       "      <td>70190Z52IP</td>\n",
       "      <td>60</td>\n",
       "      <td>931624</td>\n",
       "      <td>2017-07-31</td>\n",
       "      <td>0</td>\n",
       "    </tr>\n",
       "    <tr>\n",
       "      <th>3</th>\n",
       "      <td>25623V15MU</td>\n",
       "      <td>55</td>\n",
       "      <td>1106320</td>\n",
       "      <td>2017-07-31</td>\n",
       "      <td>1</td>\n",
       "    </tr>\n",
       "    <tr>\n",
       "      <th>4</th>\n",
       "      <td>36230I68CE</td>\n",
       "      <td>32</td>\n",
       "      <td>748465</td>\n",
       "      <td>2019-01-27</td>\n",
       "      <td>1</td>\n",
       "    </tr>\n",
       "    <tr>\n",
       "      <th>...</th>\n",
       "      <td>...</td>\n",
       "      <td>...</td>\n",
       "      <td>...</td>\n",
       "      <td>...</td>\n",
       "      <td>...</td>\n",
       "    </tr>\n",
       "    <tr>\n",
       "      <th>69995</th>\n",
       "      <td>35280V26PS</td>\n",
       "      <td>49</td>\n",
       "      <td>861770</td>\n",
       "      <td>2018-04-08</td>\n",
       "      <td>1</td>\n",
       "    </tr>\n",
       "    <tr>\n",
       "      <th>69996</th>\n",
       "      <td>79863N01VR</td>\n",
       "      <td>59</td>\n",
       "      <td>888976</td>\n",
       "      <td>2018-05-17</td>\n",
       "      <td>0</td>\n",
       "    </tr>\n",
       "    <tr>\n",
       "      <th>69997</th>\n",
       "      <td>94236O99QE</td>\n",
       "      <td>33</td>\n",
       "      <td>699676</td>\n",
       "      <td>2019-04-21</td>\n",
       "      <td>0</td>\n",
       "    </tr>\n",
       "    <tr>\n",
       "      <th>69998</th>\n",
       "      <td>23696V12DP</td>\n",
       "      <td>41</td>\n",
       "      <td>1881922</td>\n",
       "      <td>2018-07-14</td>\n",
       "      <td>0</td>\n",
       "    </tr>\n",
       "    <tr>\n",
       "      <th>69999</th>\n",
       "      <td>36285R14DU</td>\n",
       "      <td>53</td>\n",
       "      <td>1897605</td>\n",
       "      <td>2018-05-13</td>\n",
       "      <td>0</td>\n",
       "    </tr>\n",
       "  </tbody>\n",
       "</table>\n",
       "<p>70000 rows × 5 columns</p>\n",
       "</div>"
      ],
      "text/plain": [
       "               ID  CURR_AGE  ANN_INCOME DT_OLD_PURCHASE  GENDER_F\n",
       "0      20710B05XL        54     1425390      2018-04-20         0\n",
       "1      89602T51HX        47     1678954      2018-06-08         0\n",
       "2      70190Z52IP        60      931624      2017-07-31         0\n",
       "3      25623V15MU        55     1106320      2017-07-31         1\n",
       "4      36230I68CE        32      748465      2019-01-27         1\n",
       "...           ...       ...         ...             ...       ...\n",
       "69995  35280V26PS        49      861770      2018-04-08         1\n",
       "69996  79863N01VR        59      888976      2018-05-17         0\n",
       "69997  94236O99QE        33      699676      2019-04-21         0\n",
       "69998  23696V12DP        41     1881922      2018-07-14         0\n",
       "69999  36285R14DU        53     1897605      2018-05-13         0\n",
       "\n",
       "[70000 rows x 5 columns]"
      ]
     },
     "execution_count": 134,
     "metadata": {},
     "output_type": "execute_result"
    }
   ],
   "source": [
    "in_df_encoded"
   ]
  },
  {
   "cell_type": "code",
   "execution_count": 137,
   "id": "2df6cfbe-6a22-46e0-9758-37699820ddcd",
   "metadata": {},
   "outputs": [
    {
     "name": "stdout",
     "output_type": "stream",
     "text": [
      "<class 'pandas.core.frame.DataFrame'>\n",
      "RangeIndex: 70000 entries, 0 to 69999\n",
      "Data columns (total 5 columns):\n",
      " #   Column           Non-Null Count  Dtype         \n",
      "---  ------           --------------  -----         \n",
      " 0   ID               70000 non-null  object        \n",
      " 1   CURR_AGE         70000 non-null  int64         \n",
      " 2   ANN_INCOME       70000 non-null  int64         \n",
      " 3   DT_OLD_PURCHASE  70000 non-null  datetime64[ns]\n",
      " 4   GENDER_F         70000 non-null  int64         \n",
      "dtypes: datetime64[ns](1), int64(3), object(1)\n",
      "memory usage: 2.7+ MB\n",
      "None\n"
     ]
    }
   ],
   "source": [
    "print(in_df_encoded.info())"
   ]
  },
  {
   "cell_type": "code",
   "execution_count": 138,
   "id": "664fb9b2-2692-4ad9-9488-11ed169c0932",
   "metadata": {},
   "outputs": [],
   "source": [
    "x_in=in_df_encoded.drop(columns=['ID','DT_OLD_PURCHASE'])"
   ]
  },
  {
   "cell_type": "code",
   "execution_count": 141,
   "id": "fd3374f4-9202-4030-8342-e4a8710a604d",
   "metadata": {},
   "outputs": [
    {
     "data": {
      "text/html": [
       "<div>\n",
       "<style scoped>\n",
       "    .dataframe tbody tr th:only-of-type {\n",
       "        vertical-align: middle;\n",
       "    }\n",
       "\n",
       "    .dataframe tbody tr th {\n",
       "        vertical-align: top;\n",
       "    }\n",
       "\n",
       "    .dataframe thead th {\n",
       "        text-align: right;\n",
       "    }\n",
       "</style>\n",
       "<table border=\"1\" class=\"dataframe\">\n",
       "  <thead>\n",
       "    <tr style=\"text-align: right;\">\n",
       "      <th></th>\n",
       "      <th>CURR_AGE</th>\n",
       "      <th>ANN_INCOME</th>\n",
       "      <th>GENDER_F</th>\n",
       "    </tr>\n",
       "  </thead>\n",
       "  <tbody>\n",
       "    <tr>\n",
       "      <th>0</th>\n",
       "      <td>54</td>\n",
       "      <td>1425390</td>\n",
       "      <td>0</td>\n",
       "    </tr>\n",
       "    <tr>\n",
       "      <th>1</th>\n",
       "      <td>47</td>\n",
       "      <td>1678954</td>\n",
       "      <td>0</td>\n",
       "    </tr>\n",
       "    <tr>\n",
       "      <th>2</th>\n",
       "      <td>60</td>\n",
       "      <td>931624</td>\n",
       "      <td>0</td>\n",
       "    </tr>\n",
       "    <tr>\n",
       "      <th>3</th>\n",
       "      <td>55</td>\n",
       "      <td>1106320</td>\n",
       "      <td>1</td>\n",
       "    </tr>\n",
       "    <tr>\n",
       "      <th>4</th>\n",
       "      <td>32</td>\n",
       "      <td>748465</td>\n",
       "      <td>1</td>\n",
       "    </tr>\n",
       "    <tr>\n",
       "      <th>...</th>\n",
       "      <td>...</td>\n",
       "      <td>...</td>\n",
       "      <td>...</td>\n",
       "    </tr>\n",
       "    <tr>\n",
       "      <th>69995</th>\n",
       "      <td>49</td>\n",
       "      <td>861770</td>\n",
       "      <td>1</td>\n",
       "    </tr>\n",
       "    <tr>\n",
       "      <th>69996</th>\n",
       "      <td>59</td>\n",
       "      <td>888976</td>\n",
       "      <td>0</td>\n",
       "    </tr>\n",
       "    <tr>\n",
       "      <th>69997</th>\n",
       "      <td>33</td>\n",
       "      <td>699676</td>\n",
       "      <td>0</td>\n",
       "    </tr>\n",
       "    <tr>\n",
       "      <th>69998</th>\n",
       "      <td>41</td>\n",
       "      <td>1881922</td>\n",
       "      <td>0</td>\n",
       "    </tr>\n",
       "    <tr>\n",
       "      <th>69999</th>\n",
       "      <td>53</td>\n",
       "      <td>1897605</td>\n",
       "      <td>0</td>\n",
       "    </tr>\n",
       "  </tbody>\n",
       "</table>\n",
       "<p>70000 rows × 3 columns</p>\n",
       "</div>"
      ],
      "text/plain": [
       "       CURR_AGE  ANN_INCOME  GENDER_F\n",
       "0            54     1425390         0\n",
       "1            47     1678954         0\n",
       "2            60      931624         0\n",
       "3            55     1106320         1\n",
       "4            32      748465         1\n",
       "...         ...         ...       ...\n",
       "69995        49      861770         1\n",
       "69996        59      888976         0\n",
       "69997        33      699676         0\n",
       "69998        41     1881922         0\n",
       "69999        53     1897605         0\n",
       "\n",
       "[70000 rows x 3 columns]"
      ]
     },
     "execution_count": 141,
     "metadata": {},
     "output_type": "execute_result"
    }
   ],
   "source": [
    "x_in"
   ]
  },
  {
   "cell_type": "code",
   "execution_count": 151,
   "id": "268bb7cf-d3f6-4cf0-b3b4-12dc44194395",
   "metadata": {},
   "outputs": [
    {
     "name": "stdout",
     "output_type": "stream",
     "text": [
      "   ANN_INCOME  CURR_AGE  Predicted_Purchase  Purchase_Probability\n",
      "0     1425390        54                   1              0.520245\n",
      "1     1678954        47                   1              0.582354\n",
      "2      931624        60                   0              0.425637\n",
      "3     1106320        55                   0              0.469058\n",
      "4      748465        32                   0              0.497597\n"
     ]
    }
   ],
   "source": [
    "\n",
    "from sklearn.preprocessing import LabelEncoder\n",
    "le = LabelEncoder()\n",
    "IN['GENDER'] = le.fit_transform(IN['GENDER'])\n",
    "\n",
    "# Features and target (adjust column names as per your dataset)\n",
    "X = IN[['ANN_INCOME', 'CURR_AGE']]  # example features\n",
    "y = IN['GENDER']  # target variable\n",
    "\n",
    "\n",
    "# 🔹 Step 2: Split data\n",
    "X_train, X_test, y_train, y_test = train_test_split(X, y, test_size=0.2, random_state=42)\n",
    "\n",
    "# 🔹 Step 3: Train model\n",
    "model = LogisticRegression()\n",
    "model.fit(X_train, y_train)\n",
    "\n",
    "# 🔹 Step 4: Predictions on the full dataset (or new data)\n",
    "india_predictions = model.predict(X)\n",
    "india_probabilities = model.predict_proba(X)[:, 1]  # probability of purchase (class 1)\n",
    "\n",
    "# 🔹 Step 5: Add predictions to the dataframe\n",
    "IN['Predicted_Purchase'] = india_predictions\n",
    "IN['Purchase_Probability'] = india_probabilities\n",
    "\n",
    "#  Step 6: Show result\n",
    "print(IN[['ANN_INCOME', 'CURR_AGE', 'Predicted_Purchase', 'Purchase_Probability']].head())"
   ]
  },
  {
   "cell_type": "raw",
   "id": "dcfff4e7-48fd-4d34-9d55-652db9b62f1f",
   "metadata": {},
   "source": [
    "### Business Result Summary:\n",
    "Based on the prediction results from the model:\n",
    "\n",
    "The analysis helps identify customers who are more likely to purchase a mobile based on their annual income and current age.\n",
    "Each customer is assigned:\n",
    "A Predicted Purchase decision (1 for likely to purchase, 0 for unlikely).\n",
    "A Purchase Probability score, which tells how confident the model is in its prediction.\n",
    " Key Takeaways:\n",
    "Customers with higher income and within certain age groups tend to show a higher probability of purchasing.\n",
    "For example:\n",
    "Customers like those in Row 1 (Income ₹1,678,954, Age 47) have a 58% chance of purchase, making them a good target for direct marketing or personalized offers.\n",
    "On the other hand, customers with lower income or higher age, like Row 2 (Income ₹931,624, Age 60) have a lower purchase probability (42%), indicating less priority for marketing efforts.\n",
    "This predictive approach allows businesses to focus marketing resources on high-probability customers, increasing conversion rates and reducing costs.\n",
    " Business Action Plan:\n",
    " Target customers with a purchase probability above 0.6 for promotions.\n",
    " Use this model to segment the customer base and create personalized marketing strategies.\n",
    " Monitor the prediction outcomes over time to improve the model and adjust strategies as needed."
   ]
  },
  {
   "cell_type": "markdown",
   "id": "33d2a26b-5893-46b1-b668-8b93f7777628",
   "metadata": {},
   "source": [
    "### CHINA DATA PREDICTION"
   ]
  },
  {
   "cell_type": "code",
   "execution_count": 153,
   "id": "f0060771-bdc0-4fea-9901-d5cc1dfb7f54",
   "metadata": {},
   "outputs": [
    {
     "name": "stdout",
     "output_type": "stream",
     "text": [
      "      ANN_INCOME  CURR_AGE  Predicted_Purchase  Purchase_Probability\n",
      "0  445344.000000        50                   1              0.555815\n",
      "1  107634.000000        35                   1              0.545367\n",
      "2  502786.666667        59                   1              0.566431\n",
      "3  585664.000000        43                   1              0.541906\n",
      "4  705722.666667        39                   1              0.532712\n"
     ]
    }
   ],
   "source": [
    "from sklearn.preprocessing import LabelEncoder\n",
    "le = LabelEncoder()\n",
    "df['GENDER'] = le.fit_transform(df['GENDER'])\n",
    "\n",
    "# Features and target (adjust column names as per your dataset)\n",
    "X = df[['ANN_INCOME', 'CURR_AGE']]  # example features\n",
    "y = df['GENDER']  # target variable\n",
    "\n",
    "\n",
    "# 🔹 Step 2: Split data\n",
    "X_train, X_test, y_train, y_test = train_test_split(X, y, test_size=0.2, random_state=42)\n",
    "\n",
    "# 🔹 Step 3: Train model\n",
    "model = LogisticRegression()\n",
    "model.fit(X_train, y_train)\n",
    "\n",
    "# 🔹 Step 4: Predictions on the full dataset (or new data)\n",
    "india_predictions = model.predict(X)\n",
    "india_probabilities = model.predict_proba(X)[:, 1]  # probability of purchase (class 1)\n",
    "\n",
    "# 🔹 Step 5: Add predictions to the dataframe\n",
    "df['Predicted_Purchase'] = india_predictions\n",
    "df['Purchase_Probability'] = india_probabilities\n",
    "\n",
    "#  Step 6: Show result\n",
    "print(df[['ANN_INCOME', 'CURR_AGE', 'Predicted_Purchase', 'Purchase_Probability']].head())"
   ]
  },
  {
   "cell_type": "raw",
   "id": "df775b5b-95a6-482b-9929-9df3e14f9158",
   "metadata": {},
   "source": [
    "### China Market Prediction Summary:\n",
    "Similar to the Indian market analysis, this data represents predicted purchase behavior for customers in China based on their annual income and current age. The key outputs include:\n",
    "\n",
    "Predicted Purchase (1 = likely to buy, 0 = unlikely to buy).\n",
    "Purchase Probability, indicating confidence in the prediction.\n",
    "\n",
    "\n",
    "Majority of customers in this sample have a high likelihood of purchasing, as all predictions show 1 (purchase).\n",
    "The Purchase Probability scores range between 53% and 56%, suggesting a moderate level of confidence in these predictions.\n",
    "Higher incomes and middle-aged customers (35-59 years old) are showing higher probabilities, which aligns with common mobile purchase behavior trends.\n",
    "\n",
    "Target mid-income & middle-aged customers for marketing efforts, as they show high intent.\n",
    "Refine probability thresholds to ensure more precise targeting (e.g., prioritizing customers with >60% probability).\n",
    "Compare China & India market behaviors to tailor strategies for different customer segments.\n",
    "\n"
   ]
  }
 ],
 "metadata": {
  "kernelspec": {
   "display_name": "Python 3 (ipykernel)",
   "language": "python",
   "name": "python3"
  },
  "language_info": {
   "codemirror_mode": {
    "name": "ipython",
    "version": 3
   },
   "file_extension": ".py",
   "mimetype": "text/x-python",
   "name": "python",
   "nbconvert_exporter": "python",
   "pygments_lexer": "ipython3",
   "version": "3.12.7"
  }
 },
 "nbformat": 4,
 "nbformat_minor": 5
}
